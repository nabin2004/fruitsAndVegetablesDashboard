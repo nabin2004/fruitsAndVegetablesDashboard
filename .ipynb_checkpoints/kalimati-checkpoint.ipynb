{
 "cells": [
  {
   "cell_type": "markdown",
   "id": "f7a470e6-7a4c-4769-be4b-f20244367ad1",
   "metadata": {},
   "source": [
    "## Importing the importing libraries"
   ]
  },
  {
   "cell_type": "code",
   "execution_count": 41,
   "id": "fa0d70f0-0ab8-4819-9cd2-7aef416af85c",
   "metadata": {},
   "outputs": [],
   "source": [
    "import pandas as pd\n",
    "import numpy as np\n",
    "import matplotlib.pyplot as plt\n",
    "import seaborn as sns"
   ]
  },
  {
   "cell_type": "code",
   "execution_count": 42,
   "id": "fbdc99ca-e392-4d63-a4d9-02ed1056721f",
   "metadata": {},
   "outputs": [],
   "source": [
    "df1 = pd.read_csv(\"data/2013(June)-2021(May).csv\")\n",
    "df2 = pd.read_csv(\"data/may-2021-to-september-2023.csv\", header=None) "
   ]
  },
  {
   "cell_type": "code",
   "execution_count": 43,
   "id": "fe0b1738-2f6d-42ae-9c79-83c54694eef7",
   "metadata": {},
   "outputs": [
    {
     "data": {
      "text/plain": [
       "Index(['SN', 'Commodity', 'Date', 'Unit', 'Minimum', 'Maximum', 'Average'], dtype='object')"
      ]
     },
     "execution_count": 43,
     "metadata": {},
     "output_type": "execute_result"
    }
   ],
   "source": [
    "df1.columns"
   ]
  },
  {
   "cell_type": "code",
   "execution_count": 44,
   "id": "148553de-78a0-490a-b79c-4123be62cbdf",
   "metadata": {},
   "outputs": [
    {
     "data": {
      "text/html": [
       "<div>\n",
       "<style scoped>\n",
       "    .dataframe tbody tr th:only-of-type {\n",
       "        vertical-align: middle;\n",
       "    }\n",
       "\n",
       "    .dataframe tbody tr th {\n",
       "        vertical-align: top;\n",
       "    }\n",
       "\n",
       "    .dataframe thead th {\n",
       "        text-align: right;\n",
       "    }\n",
       "</style>\n",
       "<table border=\"1\" class=\"dataframe\">\n",
       "  <thead>\n",
       "    <tr style=\"text-align: right;\">\n",
       "      <th></th>\n",
       "      <th>SN</th>\n",
       "      <th>Commodity</th>\n",
       "      <th>Date</th>\n",
       "      <th>Unit</th>\n",
       "      <th>Minimum</th>\n",
       "      <th>Maximum</th>\n",
       "      <th>Average</th>\n",
       "    </tr>\n",
       "  </thead>\n",
       "  <tbody>\n",
       "    <tr>\n",
       "      <th>0</th>\n",
       "      <td>0</td>\n",
       "      <td>Tomato Big(Nepali)</td>\n",
       "      <td>2013-06-16</td>\n",
       "      <td>Kg</td>\n",
       "      <td>35.0</td>\n",
       "      <td>40.0</td>\n",
       "      <td>37.5</td>\n",
       "    </tr>\n",
       "    <tr>\n",
       "      <th>1</th>\n",
       "      <td>1</td>\n",
       "      <td>Tomato Small(Local)</td>\n",
       "      <td>2013-06-16</td>\n",
       "      <td>Kg</td>\n",
       "      <td>26.0</td>\n",
       "      <td>32.0</td>\n",
       "      <td>29.0</td>\n",
       "    </tr>\n",
       "    <tr>\n",
       "      <th>2</th>\n",
       "      <td>2</td>\n",
       "      <td>Potato Red</td>\n",
       "      <td>2013-06-16</td>\n",
       "      <td>Kg</td>\n",
       "      <td>20.0</td>\n",
       "      <td>21.0</td>\n",
       "      <td>20.5</td>\n",
       "    </tr>\n",
       "    <tr>\n",
       "      <th>3</th>\n",
       "      <td>3</td>\n",
       "      <td>Potato White</td>\n",
       "      <td>2013-06-16</td>\n",
       "      <td>Kg</td>\n",
       "      <td>15.0</td>\n",
       "      <td>16.0</td>\n",
       "      <td>15.5</td>\n",
       "    </tr>\n",
       "    <tr>\n",
       "      <th>4</th>\n",
       "      <td>4</td>\n",
       "      <td>Onion Dry (Indian)</td>\n",
       "      <td>2013-06-16</td>\n",
       "      <td>Kg</td>\n",
       "      <td>28.0</td>\n",
       "      <td>30.0</td>\n",
       "      <td>29.0</td>\n",
       "    </tr>\n",
       "  </tbody>\n",
       "</table>\n",
       "</div>"
      ],
      "text/plain": [
       "   SN            Commodity        Date Unit  Minimum  Maximum  Average\n",
       "0   0   Tomato Big(Nepali)  2013-06-16   Kg     35.0     40.0     37.5\n",
       "1   1  Tomato Small(Local)  2013-06-16   Kg     26.0     32.0     29.0\n",
       "2   2           Potato Red  2013-06-16   Kg     20.0     21.0     20.5\n",
       "3   3         Potato White  2013-06-16   Kg     15.0     16.0     15.5\n",
       "4   4   Onion Dry (Indian)  2013-06-16   Kg     28.0     30.0     29.0"
      ]
     },
     "execution_count": 44,
     "metadata": {},
     "output_type": "execute_result"
    }
   ],
   "source": [
    "df1.head()"
   ]
  },
  {
   "cell_type": "code",
   "execution_count": 45,
   "id": "f671693e-d6fb-4e73-92b3-0487b46e7891",
   "metadata": {},
   "outputs": [],
   "source": [
    "del df1['SN']"
   ]
  },
  {
   "cell_type": "code",
   "execution_count": 46,
   "id": "bd90b129-0d22-489a-873a-c287192242e4",
   "metadata": {},
   "outputs": [
    {
     "data": {
      "text/plain": [
       "Index(['Commodity', 'Date', 'Unit', 'Minimum', 'Maximum', 'Average'], dtype='object')"
      ]
     },
     "execution_count": 46,
     "metadata": {},
     "output_type": "execute_result"
    }
   ],
   "source": [
    "df1.columns"
   ]
  },
  {
   "cell_type": "code",
   "execution_count": 47,
   "id": "46e4fcb4-c89a-4656-ba40-7be530fb66e5",
   "metadata": {},
   "outputs": [],
   "source": [
    "df2.columns = df1.columns"
   ]
  },
  {
   "cell_type": "markdown",
   "id": "b3a9b88d-a765-4a41-98f6-874d49004419",
   "metadata": {},
   "source": [
    "## TASK 1: Combine two dataframes top and bottom"
   ]
  },
  {
   "cell_type": "code",
   "execution_count": 48,
   "id": "0d42f859-c582-4b08-a441-2447cdf3f89e",
   "metadata": {},
   "outputs": [],
   "source": [
    "df3 = pd.concat([df1,df2])"
   ]
  },
  {
   "cell_type": "code",
   "execution_count": 49,
   "id": "f6073e10-11c3-40f9-b404-0dc34132024b",
   "metadata": {},
   "outputs": [
    {
     "name": "stdout",
     "output_type": "stream",
     "text": [
      "<class 'pandas.core.frame.DataFrame'>\n",
      "RangeIndex: 197161 entries, 0 to 197160\n",
      "Data columns (total 6 columns):\n",
      " #   Column     Non-Null Count   Dtype  \n",
      "---  ------     --------------   -----  \n",
      " 0   Commodity  197161 non-null  object \n",
      " 1   Date       197161 non-null  object \n",
      " 2   Unit       197161 non-null  object \n",
      " 3   Minimum    197161 non-null  float64\n",
      " 4   Maximum    197161 non-null  float64\n",
      " 5   Average    197161 non-null  float64\n",
      "dtypes: float64(3), object(3)\n",
      "memory usage: 9.0+ MB\n"
     ]
    }
   ],
   "source": [
    "df1.info()"
   ]
  },
  {
   "cell_type": "code",
   "execution_count": 50,
   "id": "747463e9-a00f-4fd7-9f4d-f5c2ee6ae0cb",
   "metadata": {},
   "outputs": [
    {
     "name": "stdout",
     "output_type": "stream",
     "text": [
      "<class 'pandas.core.frame.DataFrame'>\n",
      "RangeIndex: 96480 entries, 0 to 96479\n",
      "Data columns (total 6 columns):\n",
      " #   Column     Non-Null Count  Dtype \n",
      "---  ------     --------------  ----- \n",
      " 0   Commodity  96480 non-null  object\n",
      " 1   Date       96480 non-null  object\n",
      " 2   Unit       96480 non-null  object\n",
      " 3   Minimum    96480 non-null  object\n",
      " 4   Maximum    96480 non-null  object\n",
      " 5   Average    96480 non-null  object\n",
      "dtypes: object(6)\n",
      "memory usage: 4.4+ MB\n"
     ]
    }
   ],
   "source": [
    "df2.info()"
   ]
  },
  {
   "cell_type": "code",
   "execution_count": 51,
   "id": "83dcc5c6-9c45-45c3-be8f-c3d9c0b45f27",
   "metadata": {},
   "outputs": [
    {
     "name": "stdout",
     "output_type": "stream",
     "text": [
      "<class 'pandas.core.frame.DataFrame'>\n",
      "Index: 293641 entries, 0 to 96479\n",
      "Data columns (total 6 columns):\n",
      " #   Column     Non-Null Count   Dtype \n",
      "---  ------     --------------   ----- \n",
      " 0   Commodity  293641 non-null  object\n",
      " 1   Date       293641 non-null  object\n",
      " 2   Unit       293641 non-null  object\n",
      " 3   Minimum    293641 non-null  object\n",
      " 4   Maximum    293641 non-null  object\n",
      " 5   Average    293641 non-null  object\n",
      "dtypes: object(6)\n",
      "memory usage: 15.7+ MB\n"
     ]
    }
   ],
   "source": [
    "df3.info()"
   ]
  },
  {
   "cell_type": "markdown",
   "id": "52f74450-3975-4a8a-a443-2dbcb0010b2b",
   "metadata": {},
   "source": [
    "## TASK 2: Convert the Date column to Date types"
   ]
  },
  {
   "cell_type": "code",
   "execution_count": 11,
   "id": "47effece-26a3-4db7-80c4-b2e01e760183",
   "metadata": {},
   "outputs": [
    {
     "data": {
      "text/plain": [
       "132"
      ]
     },
     "execution_count": 11,
     "metadata": {},
     "output_type": "execute_result"
    }
   ],
   "source": [
    "len(df1['Commodity'].unique())"
   ]
  },
  {
   "cell_type": "code",
   "execution_count": 13,
   "id": "514187a4-2e4f-4c63-86d0-3681a2dffcb5",
   "metadata": {},
   "outputs": [
    {
     "data": {
      "text/plain": [
       "133"
      ]
     },
     "execution_count": 13,
     "metadata": {},
     "output_type": "execute_result"
    }
   ],
   "source": [
    "len(df2['Tomato Big(Nepali)'].unique())"
   ]
  },
  {
   "cell_type": "code",
   "execution_count": 16,
   "id": "1fede62b-8626-44e3-a7d8-79cbec460009",
   "metadata": {},
   "outputs": [
    {
     "data": {
      "text/plain": [
       "Commodity\n",
       "Ginger                  2751\n",
       "Cauli Local             2750\n",
       "Cabbage(Local)          2749\n",
       "Chilli Dry              2748\n",
       "Raddish White(Local)    2747\n",
       "                        ... \n",
       "Maize                     24\n",
       "Mango(Calcutte)           23\n",
       "Sweet Lime                14\n",
       "Musk Melon                10\n",
       "Mango(Chousa)              2\n",
       "Name: count, Length: 132, dtype: int64"
      ]
     },
     "execution_count": 16,
     "metadata": {},
     "output_type": "execute_result"
    }
   ],
   "source": [
    "df1['Commodity'].value_counts()"
   ]
  },
  {
   "cell_type": "markdown",
   "id": "636ed3f7-91b4-4916-92be-3ba2183e7c8a",
   "metadata": {},
   "source": [
    "## TASK 3: I think there are repeated values in the Commdity fields. I might need to make a table for repeated things."
   ]
  },
  {
   "cell_type": "code",
   "execution_count": 19,
   "id": "972d724d-67b1-4a17-8bc9-7b8ee21a038e",
   "metadata": {},
   "outputs": [
    {
     "data": {
      "text/plain": [
       "Unit\n",
       "Kg      184408\n",
       "KG        6889\n",
       "1 Pc      3120\n",
       "Doz       2744\n",
       "Name: count, dtype: int64"
      ]
     },
     "execution_count": 19,
     "metadata": {},
     "output_type": "execute_result"
    }
   ],
   "source": [
    "df1['Unit'].value_counts()"
   ]
  },
  {
   "cell_type": "code",
   "execution_count": null,
   "id": "c54bd118-bdbb-4ad3-858b-fd9a55fc4514",
   "metadata": {},
   "outputs": [],
   "source": [
    "df1['Unit'].value_counts()"
   ]
  },
  {
   "cell_type": "markdown",
   "id": "6e4142d7-1aa6-4569-85c0-6b4e3ac10b58",
   "metadata": {},
   "source": [
    "## TASK 4: Hey Nabin, Give a proper namings to the df2's column, Okaaaaaay?"
   ]
  },
  {
   "cell_type": "code",
   "execution_count": null,
   "id": "15d8976d-2701-40d8-9b0d-acfaced31465",
   "metadata": {},
   "outputs": [],
   "source": []
  },
  {
   "cell_type": "code",
   "execution_count": null,
   "id": "dabec417-1971-4a18-9e1b-6a0d2585ea3e",
   "metadata": {},
   "outputs": [],
   "source": []
  },
  {
   "cell_type": "markdown",
   "id": "c79ffcaf-76f3-46fb-b77e-45172998795d",
   "metadata": {},
   "source": [
    "## TASK 5: Understand the meaning of the max, min, and average or if needed make something different."
   ]
  },
  {
   "cell_type": "markdown",
   "id": "28907790-b469-4232-990c-b286e83891ee",
   "metadata": {},
   "source": [
    "## TASK 6: Make sure to check the Data Value constraints"
   ]
  },
  {
   "cell_type": "code",
   "execution_count": null,
   "id": "babc3b9c-1067-456a-a653-e44382769b3d",
   "metadata": {},
   "outputs": [],
   "source": []
  },
  {
   "cell_type": "code",
   "execution_count": null,
   "id": "f3fe8ba8-a728-4b2d-a365-ac8ba8df7c50",
   "metadata": {},
   "outputs": [],
   "source": []
  },
  {
   "cell_type": "markdown",
   "id": "b5164ce8-bea2-4b4b-b012-e903e2310c07",
   "metadata": {},
   "source": [
    "# Let's Start"
   ]
  },
  {
   "cell_type": "code",
   "execution_count": 52,
   "id": "d7478a6f-914b-4967-814f-16affc4e19f7",
   "metadata": {},
   "outputs": [
    {
     "data": {
      "text/html": [
       "<div>\n",
       "<style scoped>\n",
       "    .dataframe tbody tr th:only-of-type {\n",
       "        vertical-align: middle;\n",
       "    }\n",
       "\n",
       "    .dataframe tbody tr th {\n",
       "        vertical-align: top;\n",
       "    }\n",
       "\n",
       "    .dataframe thead th {\n",
       "        text-align: right;\n",
       "    }\n",
       "</style>\n",
       "<table border=\"1\" class=\"dataframe\">\n",
       "  <thead>\n",
       "    <tr style=\"text-align: right;\">\n",
       "      <th></th>\n",
       "      <th>Commodity</th>\n",
       "      <th>Date</th>\n",
       "      <th>Unit</th>\n",
       "      <th>Minimum</th>\n",
       "      <th>Maximum</th>\n",
       "      <th>Average</th>\n",
       "    </tr>\n",
       "  </thead>\n",
       "  <tbody>\n",
       "    <tr>\n",
       "      <th>0</th>\n",
       "      <td>Tomato Big(Nepali)</td>\n",
       "      <td>2013-06-16</td>\n",
       "      <td>Kg</td>\n",
       "      <td>35.0</td>\n",
       "      <td>40.0</td>\n",
       "      <td>37.5</td>\n",
       "    </tr>\n",
       "    <tr>\n",
       "      <th>1</th>\n",
       "      <td>Tomato Small(Local)</td>\n",
       "      <td>2013-06-16</td>\n",
       "      <td>Kg</td>\n",
       "      <td>26.0</td>\n",
       "      <td>32.0</td>\n",
       "      <td>29.0</td>\n",
       "    </tr>\n",
       "    <tr>\n",
       "      <th>2</th>\n",
       "      <td>Potato Red</td>\n",
       "      <td>2013-06-16</td>\n",
       "      <td>Kg</td>\n",
       "      <td>20.0</td>\n",
       "      <td>21.0</td>\n",
       "      <td>20.5</td>\n",
       "    </tr>\n",
       "    <tr>\n",
       "      <th>3</th>\n",
       "      <td>Potato White</td>\n",
       "      <td>2013-06-16</td>\n",
       "      <td>Kg</td>\n",
       "      <td>15.0</td>\n",
       "      <td>16.0</td>\n",
       "      <td>15.5</td>\n",
       "    </tr>\n",
       "    <tr>\n",
       "      <th>4</th>\n",
       "      <td>Onion Dry (Indian)</td>\n",
       "      <td>2013-06-16</td>\n",
       "      <td>Kg</td>\n",
       "      <td>28.0</td>\n",
       "      <td>30.0</td>\n",
       "      <td>29.0</td>\n",
       "    </tr>\n",
       "    <tr>\n",
       "      <th>...</th>\n",
       "      <td>...</td>\n",
       "      <td>...</td>\n",
       "      <td>...</td>\n",
       "      <td>...</td>\n",
       "      <td>...</td>\n",
       "      <td>...</td>\n",
       "    </tr>\n",
       "    <tr>\n",
       "      <th>96475</th>\n",
       "      <td>Tomato Small(Indian)</td>\n",
       "      <td>2023-09-28</td>\n",
       "      <td>KG</td>\n",
       "      <td>Rs 45.00</td>\n",
       "      <td>Rs 55.00</td>\n",
       "      <td>Rs 50.00</td>\n",
       "    </tr>\n",
       "    <tr>\n",
       "      <th>96476</th>\n",
       "      <td>Tomato Small(Local)</td>\n",
       "      <td>2023-09-28</td>\n",
       "      <td>KG</td>\n",
       "      <td>Rs 50.00</td>\n",
       "      <td>Rs 60.00</td>\n",
       "      <td>Rs 55.00</td>\n",
       "    </tr>\n",
       "    <tr>\n",
       "      <th>96477</th>\n",
       "      <td>Tomato Small(Tunnel)</td>\n",
       "      <td>2023-09-28</td>\n",
       "      <td>KG</td>\n",
       "      <td>Rs 60.00</td>\n",
       "      <td>Rs 75.00</td>\n",
       "      <td>Rs 69.00</td>\n",
       "    </tr>\n",
       "    <tr>\n",
       "      <th>96478</th>\n",
       "      <td>Turnip A</td>\n",
       "      <td>2023-09-28</td>\n",
       "      <td>KG</td>\n",
       "      <td>Rs 70.00</td>\n",
       "      <td>Rs 80.00</td>\n",
       "      <td>Rs 75.00</td>\n",
       "    </tr>\n",
       "    <tr>\n",
       "      <th>96479</th>\n",
       "      <td>Water Melon(Green)</td>\n",
       "      <td>2023-09-28</td>\n",
       "      <td>KG</td>\n",
       "      <td>Rs 50.00</td>\n",
       "      <td>Rs 60.00</td>\n",
       "      <td>Rs 56.67</td>\n",
       "    </tr>\n",
       "  </tbody>\n",
       "</table>\n",
       "<p>293641 rows × 6 columns</p>\n",
       "</div>"
      ],
      "text/plain": [
       "                  Commodity        Date Unit   Minimum   Maximum   Average\n",
       "0        Tomato Big(Nepali)  2013-06-16   Kg      35.0      40.0      37.5\n",
       "1       Tomato Small(Local)  2013-06-16   Kg      26.0      32.0      29.0\n",
       "2                Potato Red  2013-06-16   Kg      20.0      21.0      20.5\n",
       "3              Potato White  2013-06-16   Kg      15.0      16.0      15.5\n",
       "4        Onion Dry (Indian)  2013-06-16   Kg      28.0      30.0      29.0\n",
       "...                     ...         ...  ...       ...       ...       ...\n",
       "96475  Tomato Small(Indian)  2023-09-28   KG  Rs 45.00  Rs 55.00  Rs 50.00\n",
       "96476   Tomato Small(Local)  2023-09-28   KG  Rs 50.00  Rs 60.00  Rs 55.00\n",
       "96477  Tomato Small(Tunnel)  2023-09-28   KG  Rs 60.00  Rs 75.00  Rs 69.00\n",
       "96478              Turnip A  2023-09-28   KG  Rs 70.00  Rs 80.00  Rs 75.00\n",
       "96479    Water Melon(Green)  2023-09-28   KG  Rs 50.00  Rs 60.00  Rs 56.67\n",
       "\n",
       "[293641 rows x 6 columns]"
      ]
     },
     "execution_count": 52,
     "metadata": {},
     "output_type": "execute_result"
    }
   ],
   "source": [
    "df3"
   ]
  },
  {
   "cell_type": "markdown",
   "id": "df5b2009-5fd8-4176-8650-156c954636a7",
   "metadata": {},
   "source": [
    "# TASK: Removing the RS"
   ]
  },
  {
   "cell_type": "code",
   "execution_count": 56,
   "id": "11146d09-5d4c-4ef4-be3a-3eb90d0fbdc0",
   "metadata": {},
   "outputs": [],
   "source": [
    "df3['Minimum'] = df3['Minimum'].apply(lambda x: float(x.replace('Rs', '').strip()) if isinstance(x, str) and 'Rs' in x else float(x))"
   ]
  },
  {
   "cell_type": "code",
   "execution_count": 57,
   "id": "582d4d19-e379-406e-93ad-ea132d867d58",
   "metadata": {},
   "outputs": [],
   "source": [
    "df3['Maximum'] = df3['Maximum'].apply(lambda x: float(x.replace('Rs', '').strip()) if isinstance(x, str) and 'Rs' in x else float(x))"
   ]
  },
  {
   "cell_type": "code",
   "execution_count": 58,
   "id": "91ca55c0-0eda-4fa9-b45d-0854c7b45778",
   "metadata": {},
   "outputs": [],
   "source": [
    "df3['Average'] = df3['Average'].apply(lambda x: float(x.replace('Rs', '').strip()) if isinstance(x, str) and 'Rs' in x else float(x))"
   ]
  },
  {
   "cell_type": "code",
   "execution_count": 60,
   "id": "1d20bf5d-dbc8-4c32-8e12-338ca14756ad",
   "metadata": {},
   "outputs": [
    {
     "data": {
      "text/html": [
       "<div>\n",
       "<style scoped>\n",
       "    .dataframe tbody tr th:only-of-type {\n",
       "        vertical-align: middle;\n",
       "    }\n",
       "\n",
       "    .dataframe tbody tr th {\n",
       "        vertical-align: top;\n",
       "    }\n",
       "\n",
       "    .dataframe thead th {\n",
       "        text-align: right;\n",
       "    }\n",
       "</style>\n",
       "<table border=\"1\" class=\"dataframe\">\n",
       "  <thead>\n",
       "    <tr style=\"text-align: right;\">\n",
       "      <th></th>\n",
       "      <th>Commodity</th>\n",
       "      <th>Date</th>\n",
       "      <th>Unit</th>\n",
       "      <th>Minimum</th>\n",
       "      <th>Maximum</th>\n",
       "      <th>Average</th>\n",
       "    </tr>\n",
       "  </thead>\n",
       "  <tbody>\n",
       "    <tr>\n",
       "      <th>0</th>\n",
       "      <td>Tomato Big(Nepali)</td>\n",
       "      <td>2013-06-16</td>\n",
       "      <td>Kg</td>\n",
       "      <td>35.0</td>\n",
       "      <td>40.0</td>\n",
       "      <td>37.5</td>\n",
       "    </tr>\n",
       "    <tr>\n",
       "      <th>1</th>\n",
       "      <td>Tomato Small(Local)</td>\n",
       "      <td>2013-06-16</td>\n",
       "      <td>Kg</td>\n",
       "      <td>26.0</td>\n",
       "      <td>32.0</td>\n",
       "      <td>29.0</td>\n",
       "    </tr>\n",
       "    <tr>\n",
       "      <th>2</th>\n",
       "      <td>Potato Red</td>\n",
       "      <td>2013-06-16</td>\n",
       "      <td>Kg</td>\n",
       "      <td>20.0</td>\n",
       "      <td>21.0</td>\n",
       "      <td>20.5</td>\n",
       "    </tr>\n",
       "    <tr>\n",
       "      <th>3</th>\n",
       "      <td>Potato White</td>\n",
       "      <td>2013-06-16</td>\n",
       "      <td>Kg</td>\n",
       "      <td>15.0</td>\n",
       "      <td>16.0</td>\n",
       "      <td>15.5</td>\n",
       "    </tr>\n",
       "    <tr>\n",
       "      <th>4</th>\n",
       "      <td>Onion Dry (Indian)</td>\n",
       "      <td>2013-06-16</td>\n",
       "      <td>Kg</td>\n",
       "      <td>28.0</td>\n",
       "      <td>30.0</td>\n",
       "      <td>29.0</td>\n",
       "    </tr>\n",
       "  </tbody>\n",
       "</table>\n",
       "</div>"
      ],
      "text/plain": [
       "             Commodity        Date Unit  Minimum  Maximum  Average\n",
       "0   Tomato Big(Nepali)  2013-06-16   Kg     35.0     40.0     37.5\n",
       "1  Tomato Small(Local)  2013-06-16   Kg     26.0     32.0     29.0\n",
       "2           Potato Red  2013-06-16   Kg     20.0     21.0     20.5\n",
       "3         Potato White  2013-06-16   Kg     15.0     16.0     15.5\n",
       "4   Onion Dry (Indian)  2013-06-16   Kg     28.0     30.0     29.0"
      ]
     },
     "execution_count": 60,
     "metadata": {},
     "output_type": "execute_result"
    }
   ],
   "source": [
    "df3.head()"
   ]
  },
  {
   "cell_type": "markdown",
   "id": "8ceb9e9a-8ad9-40d1-831a-18f9c3d13cb7",
   "metadata": {},
   "source": [
    "# Let's touch the Date"
   ]
  },
  {
   "cell_type": "code",
   "execution_count": 65,
   "id": "cc6269b7-b899-4f02-a3b0-29791bbb79a5",
   "metadata": {},
   "outputs": [
    {
     "data": {
      "text/plain": [
       "0        2013-06-16\n",
       "1        2013-06-16\n",
       "2        2013-06-16\n",
       "3        2013-06-16\n",
       "4        2013-06-16\n",
       "            ...    \n",
       "96475    2023-09-28\n",
       "96476    2023-09-28\n",
       "96477    2023-09-28\n",
       "96478    2023-09-28\n",
       "96479    2023-09-28\n",
       "Name: Date, Length: 293641, dtype: object"
      ]
     },
     "execution_count": 65,
     "metadata": {},
     "output_type": "execute_result"
    }
   ],
   "source": [
    "df3['Date']"
   ]
  },
  {
   "cell_type": "code",
   "execution_count": 67,
   "id": "27306d57-585a-4b13-88d9-1ec0795bb8c8",
   "metadata": {},
   "outputs": [
    {
     "data": {
      "text/plain": [
       "['ArrowDtype',\n",
       " 'BooleanDtype',\n",
       " 'Categorical',\n",
       " 'CategoricalDtype',\n",
       " 'CategoricalIndex',\n",
       " 'DataFrame',\n",
       " 'DateOffset',\n",
       " 'DatetimeIndex',\n",
       " 'DatetimeTZDtype',\n",
       " 'ExcelFile',\n",
       " 'ExcelWriter',\n",
       " 'Flags',\n",
       " 'Float32Dtype',\n",
       " 'Float64Dtype',\n",
       " 'Grouper',\n",
       " 'HDFStore',\n",
       " 'Index',\n",
       " 'IndexSlice',\n",
       " 'Int16Dtype',\n",
       " 'Int32Dtype',\n",
       " 'Int64Dtype',\n",
       " 'Int8Dtype',\n",
       " 'Interval',\n",
       " 'IntervalDtype',\n",
       " 'IntervalIndex',\n",
       " 'MultiIndex',\n",
       " 'NA',\n",
       " 'NaT',\n",
       " 'NamedAgg',\n",
       " 'Period',\n",
       " 'PeriodDtype',\n",
       " 'PeriodIndex',\n",
       " 'RangeIndex',\n",
       " 'Series',\n",
       " 'SparseDtype',\n",
       " 'StringDtype',\n",
       " 'Timedelta',\n",
       " 'TimedeltaIndex',\n",
       " 'Timestamp',\n",
       " 'UInt16Dtype',\n",
       " 'UInt32Dtype',\n",
       " 'UInt64Dtype',\n",
       " 'UInt8Dtype',\n",
       " '__all__',\n",
       " '__builtins__',\n",
       " '__cached__',\n",
       " '__doc__',\n",
       " '__docformat__',\n",
       " '__file__',\n",
       " '__git_version__',\n",
       " '__loader__',\n",
       " '__name__',\n",
       " '__package__',\n",
       " '__path__',\n",
       " '__spec__',\n",
       " '__version__',\n",
       " '_built_with_meson',\n",
       " '_config',\n",
       " '_is_numpy_dev',\n",
       " '_libs',\n",
       " '_pandas_datetime_CAPI',\n",
       " '_pandas_parser_CAPI',\n",
       " '_testing',\n",
       " '_typing',\n",
       " '_version_meson',\n",
       " 'annotations',\n",
       " 'api',\n",
       " 'array',\n",
       " 'arrays',\n",
       " 'bdate_range',\n",
       " 'compat',\n",
       " 'concat',\n",
       " 'core',\n",
       " 'crosstab',\n",
       " 'cut',\n",
       " 'date_range',\n",
       " 'describe_option',\n",
       " 'errors',\n",
       " 'eval',\n",
       " 'factorize',\n",
       " 'from_dummies',\n",
       " 'get_dummies',\n",
       " 'get_option',\n",
       " 'infer_freq',\n",
       " 'interval_range',\n",
       " 'io',\n",
       " 'isna',\n",
       " 'isnull',\n",
       " 'json_normalize',\n",
       " 'lreshape',\n",
       " 'melt',\n",
       " 'merge',\n",
       " 'merge_asof',\n",
       " 'merge_ordered',\n",
       " 'notna',\n",
       " 'notnull',\n",
       " 'offsets',\n",
       " 'option_context',\n",
       " 'options',\n",
       " 'pandas',\n",
       " 'period_range',\n",
       " 'pivot',\n",
       " 'pivot_table',\n",
       " 'plotting',\n",
       " 'qcut',\n",
       " 'read_clipboard',\n",
       " 'read_csv',\n",
       " 'read_excel',\n",
       " 'read_feather',\n",
       " 'read_fwf',\n",
       " 'read_gbq',\n",
       " 'read_hdf',\n",
       " 'read_html',\n",
       " 'read_json',\n",
       " 'read_orc',\n",
       " 'read_parquet',\n",
       " 'read_pickle',\n",
       " 'read_sas',\n",
       " 'read_spss',\n",
       " 'read_sql',\n",
       " 'read_sql_query',\n",
       " 'read_sql_table',\n",
       " 'read_stata',\n",
       " 'read_table',\n",
       " 'read_xml',\n",
       " 'reset_option',\n",
       " 'set_eng_float_format',\n",
       " 'set_option',\n",
       " 'show_versions',\n",
       " 'test',\n",
       " 'testing',\n",
       " 'timedelta_range',\n",
       " 'to_datetime',\n",
       " 'to_numeric',\n",
       " 'to_pickle',\n",
       " 'to_timedelta',\n",
       " 'tseries',\n",
       " 'unique',\n",
       " 'util',\n",
       " 'value_counts',\n",
       " 'wide_to_long']"
      ]
     },
     "execution_count": 67,
     "metadata": {},
     "output_type": "execute_result"
    }
   ],
   "source": [
    "dir(pd)"
   ]
  },
  {
   "cell_type": "code",
   "execution_count": 74,
   "id": "a5ff3ca6-ad02-419f-bfdf-5f4d461926a9",
   "metadata": {},
   "outputs": [],
   "source": [
    "df3['Date'] = pd.to_datetime(df3['Date'],format='mixed')"
   ]
  },
  {
   "cell_type": "code",
   "execution_count": 77,
   "id": "bef3c734-9638-4864-8542-0e4038b1433d",
   "metadata": {},
   "outputs": [
    {
     "name": "stdout",
     "output_type": "stream",
     "text": [
      "min:  2013-06-16 00:00:00 \n",
      "max:  2023-09-28 00:00:00\n"
     ]
    }
   ],
   "source": [
    "print(\"min: \",df3['Date'].min(), \"\\nmax: \",df3['Date'].max())"
   ]
  },
  {
   "cell_type": "code",
   "execution_count": null,
   "id": "cb8d6b17-3a7b-4f0a-988d-596595ad1cd7",
   "metadata": {},
   "outputs": [],
   "source": []
  }
 ],
 "metadata": {
  "kernelspec": {
   "display_name": "Python 3 (ipykernel)",
   "language": "python",
   "name": "python3"
  },
  "language_info": {
   "codemirror_mode": {
    "name": "ipython",
    "version": 3
   },
   "file_extension": ".py",
   "mimetype": "text/x-python",
   "name": "python",
   "nbconvert_exporter": "python",
   "pygments_lexer": "ipython3",
   "version": "3.12.5"
  }
 },
 "nbformat": 4,
 "nbformat_minor": 5
}
