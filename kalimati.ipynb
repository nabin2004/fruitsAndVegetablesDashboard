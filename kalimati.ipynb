{
 "cells": [
  {
   "cell_type": "markdown",
   "id": "f7a470e6-7a4c-4769-be4b-f20244367ad1",
   "metadata": {},
   "source": [
    "## Importing the importing libraries"
   ]
  },
  {
   "cell_type": "code",
   "execution_count": 1,
   "id": "fa0d70f0-0ab8-4819-9cd2-7aef416af85c",
   "metadata": {},
   "outputs": [],
   "source": [
    "import pandas as pd\n",
    "import numpy as np\n",
    "import matplotlib.pyplot as plt\n",
    "import seaborn as sns"
   ]
  },
  {
   "cell_type": "code",
   "execution_count": 2,
   "id": "fbdc99ca-e392-4d63-a4d9-02ed1056721f",
   "metadata": {},
   "outputs": [],
   "source": [
    "df1 = pd.read_csv(\"data/2013(June)-2021(May).csv\")\n",
    "df2 = pd.read_csv(\"data/may-2021-to-september-2023.csv\", header=None) "
   ]
  },
  {
   "cell_type": "code",
   "execution_count": 3,
   "id": "fe0b1738-2f6d-42ae-9c79-83c54694eef7",
   "metadata": {},
   "outputs": [
    {
     "data": {
      "text/plain": [
       "Index(['SN', 'Commodity', 'Date', 'Unit', 'Minimum', 'Maximum', 'Average'], dtype='object')"
      ]
     },
     "execution_count": 3,
     "metadata": {},
     "output_type": "execute_result"
    }
   ],
   "source": [
    "df1.columns"
   ]
  },
  {
   "cell_type": "code",
   "execution_count": 4,
   "id": "148553de-78a0-490a-b79c-4123be62cbdf",
   "metadata": {},
   "outputs": [
    {
     "data": {
      "text/html": [
       "<div>\n",
       "<style scoped>\n",
       "    .dataframe tbody tr th:only-of-type {\n",
       "        vertical-align: middle;\n",
       "    }\n",
       "\n",
       "    .dataframe tbody tr th {\n",
       "        vertical-align: top;\n",
       "    }\n",
       "\n",
       "    .dataframe thead th {\n",
       "        text-align: right;\n",
       "    }\n",
       "</style>\n",
       "<table border=\"1\" class=\"dataframe\">\n",
       "  <thead>\n",
       "    <tr style=\"text-align: right;\">\n",
       "      <th></th>\n",
       "      <th>SN</th>\n",
       "      <th>Commodity</th>\n",
       "      <th>Date</th>\n",
       "      <th>Unit</th>\n",
       "      <th>Minimum</th>\n",
       "      <th>Maximum</th>\n",
       "      <th>Average</th>\n",
       "    </tr>\n",
       "  </thead>\n",
       "  <tbody>\n",
       "    <tr>\n",
       "      <th>0</th>\n",
       "      <td>0</td>\n",
       "      <td>Tomato Big(Nepali)</td>\n",
       "      <td>2013-06-16</td>\n",
       "      <td>Kg</td>\n",
       "      <td>35.0</td>\n",
       "      <td>40.0</td>\n",
       "      <td>37.5</td>\n",
       "    </tr>\n",
       "    <tr>\n",
       "      <th>1</th>\n",
       "      <td>1</td>\n",
       "      <td>Tomato Small(Local)</td>\n",
       "      <td>2013-06-16</td>\n",
       "      <td>Kg</td>\n",
       "      <td>26.0</td>\n",
       "      <td>32.0</td>\n",
       "      <td>29.0</td>\n",
       "    </tr>\n",
       "    <tr>\n",
       "      <th>2</th>\n",
       "      <td>2</td>\n",
       "      <td>Potato Red</td>\n",
       "      <td>2013-06-16</td>\n",
       "      <td>Kg</td>\n",
       "      <td>20.0</td>\n",
       "      <td>21.0</td>\n",
       "      <td>20.5</td>\n",
       "    </tr>\n",
       "    <tr>\n",
       "      <th>3</th>\n",
       "      <td>3</td>\n",
       "      <td>Potato White</td>\n",
       "      <td>2013-06-16</td>\n",
       "      <td>Kg</td>\n",
       "      <td>15.0</td>\n",
       "      <td>16.0</td>\n",
       "      <td>15.5</td>\n",
       "    </tr>\n",
       "    <tr>\n",
       "      <th>4</th>\n",
       "      <td>4</td>\n",
       "      <td>Onion Dry (Indian)</td>\n",
       "      <td>2013-06-16</td>\n",
       "      <td>Kg</td>\n",
       "      <td>28.0</td>\n",
       "      <td>30.0</td>\n",
       "      <td>29.0</td>\n",
       "    </tr>\n",
       "  </tbody>\n",
       "</table>\n",
       "</div>"
      ],
      "text/plain": [
       "   SN            Commodity        Date Unit  Minimum  Maximum  Average\n",
       "0   0   Tomato Big(Nepali)  2013-06-16   Kg     35.0     40.0     37.5\n",
       "1   1  Tomato Small(Local)  2013-06-16   Kg     26.0     32.0     29.0\n",
       "2   2           Potato Red  2013-06-16   Kg     20.0     21.0     20.5\n",
       "3   3         Potato White  2013-06-16   Kg     15.0     16.0     15.5\n",
       "4   4   Onion Dry (Indian)  2013-06-16   Kg     28.0     30.0     29.0"
      ]
     },
     "execution_count": 4,
     "metadata": {},
     "output_type": "execute_result"
    }
   ],
   "source": [
    "df1.head()"
   ]
  },
  {
   "cell_type": "code",
   "execution_count": 5,
   "id": "f671693e-d6fb-4e73-92b3-0487b46e7891",
   "metadata": {},
   "outputs": [],
   "source": [
    "del df1['SN']"
   ]
  },
  {
   "cell_type": "code",
   "execution_count": 6,
   "id": "bd90b129-0d22-489a-873a-c287192242e4",
   "metadata": {},
   "outputs": [
    {
     "data": {
      "text/plain": [
       "Index(['Commodity', 'Date', 'Unit', 'Minimum', 'Maximum', 'Average'], dtype='object')"
      ]
     },
     "execution_count": 6,
     "metadata": {},
     "output_type": "execute_result"
    }
   ],
   "source": [
    "df1.columns"
   ]
  },
  {
   "cell_type": "code",
   "execution_count": 7,
   "id": "46e4fcb4-c89a-4656-ba40-7be530fb66e5",
   "metadata": {},
   "outputs": [],
   "source": [
    "df2.columns = df1.columns"
   ]
  },
  {
   "cell_type": "markdown",
   "id": "b3a9b88d-a765-4a41-98f6-874d49004419",
   "metadata": {},
   "source": [
    "## TASK 1: Combine two dataframes top and bottom"
   ]
  },
  {
   "cell_type": "code",
   "execution_count": 8,
   "id": "0d42f859-c582-4b08-a441-2447cdf3f89e",
   "metadata": {},
   "outputs": [],
   "source": [
    "df3 = pd.concat([df1,df2])"
   ]
  },
  {
   "cell_type": "code",
   "execution_count": 9,
   "id": "f6073e10-11c3-40f9-b404-0dc34132024b",
   "metadata": {},
   "outputs": [
    {
     "name": "stdout",
     "output_type": "stream",
     "text": [
      "<class 'pandas.core.frame.DataFrame'>\n",
      "RangeIndex: 197161 entries, 0 to 197160\n",
      "Data columns (total 6 columns):\n",
      " #   Column     Non-Null Count   Dtype  \n",
      "---  ------     --------------   -----  \n",
      " 0   Commodity  197161 non-null  object \n",
      " 1   Date       197161 non-null  object \n",
      " 2   Unit       197161 non-null  object \n",
      " 3   Minimum    197161 non-null  float64\n",
      " 4   Maximum    197161 non-null  float64\n",
      " 5   Average    197161 non-null  float64\n",
      "dtypes: float64(3), object(3)\n",
      "memory usage: 9.0+ MB\n"
     ]
    }
   ],
   "source": [
    "df1.info()"
   ]
  },
  {
   "cell_type": "code",
   "execution_count": 10,
   "id": "747463e9-a00f-4fd7-9f4d-f5c2ee6ae0cb",
   "metadata": {},
   "outputs": [
    {
     "name": "stdout",
     "output_type": "stream",
     "text": [
      "<class 'pandas.core.frame.DataFrame'>\n",
      "RangeIndex: 96480 entries, 0 to 96479\n",
      "Data columns (total 6 columns):\n",
      " #   Column     Non-Null Count  Dtype \n",
      "---  ------     --------------  ----- \n",
      " 0   Commodity  96480 non-null  object\n",
      " 1   Date       96480 non-null  object\n",
      " 2   Unit       96480 non-null  object\n",
      " 3   Minimum    96480 non-null  object\n",
      " 4   Maximum    96480 non-null  object\n",
      " 5   Average    96480 non-null  object\n",
      "dtypes: object(6)\n",
      "memory usage: 4.4+ MB\n"
     ]
    }
   ],
   "source": [
    "df2.info()"
   ]
  },
  {
   "cell_type": "code",
   "execution_count": 11,
   "id": "83dcc5c6-9c45-45c3-be8f-c3d9c0b45f27",
   "metadata": {},
   "outputs": [
    {
     "name": "stdout",
     "output_type": "stream",
     "text": [
      "<class 'pandas.core.frame.DataFrame'>\n",
      "Index: 293641 entries, 0 to 96479\n",
      "Data columns (total 6 columns):\n",
      " #   Column     Non-Null Count   Dtype \n",
      "---  ------     --------------   ----- \n",
      " 0   Commodity  293641 non-null  object\n",
      " 1   Date       293641 non-null  object\n",
      " 2   Unit       293641 non-null  object\n",
      " 3   Minimum    293641 non-null  object\n",
      " 4   Maximum    293641 non-null  object\n",
      " 5   Average    293641 non-null  object\n",
      "dtypes: object(6)\n",
      "memory usage: 15.7+ MB\n"
     ]
    }
   ],
   "source": [
    "df3.info()"
   ]
  },
  {
   "cell_type": "markdown",
   "id": "52f74450-3975-4a8a-a443-2dbcb0010b2b",
   "metadata": {},
   "source": [
    "## TASK 2: Convert the Date column to Date types"
   ]
  },
  {
   "cell_type": "code",
   "execution_count": 12,
   "id": "47effece-26a3-4db7-80c4-b2e01e760183",
   "metadata": {},
   "outputs": [
    {
     "data": {
      "text/plain": [
       "132"
      ]
     },
     "execution_count": 12,
     "metadata": {},
     "output_type": "execute_result"
    }
   ],
   "source": [
    "len(df1['Commodity'].unique())"
   ]
  },
  {
   "cell_type": "code",
   "execution_count": 13,
   "id": "514187a4-2e4f-4c63-86d0-3681a2dffcb5",
   "metadata": {},
   "outputs": [
    {
     "ename": "KeyError",
     "evalue": "'Tomato Big(Nepali)'",
     "output_type": "error",
     "traceback": [
      "\u001b[1;31m---------------------------------------------------------------------------\u001b[0m",
      "\u001b[1;31mKeyError\u001b[0m                                  Traceback (most recent call last)",
      "File \u001b[1;32m~\\AppData\\Local\\Programs\\Python\\Python312\\Lib\\site-packages\\pandas\\core\\indexes\\base.py:3805\u001b[0m, in \u001b[0;36mIndex.get_loc\u001b[1;34m(self, key)\u001b[0m\n\u001b[0;32m   3804\u001b[0m \u001b[38;5;28;01mtry\u001b[39;00m:\n\u001b[1;32m-> 3805\u001b[0m     \u001b[38;5;28;01mreturn\u001b[39;00m \u001b[38;5;28;43mself\u001b[39;49m\u001b[38;5;241;43m.\u001b[39;49m\u001b[43m_engine\u001b[49m\u001b[38;5;241;43m.\u001b[39;49m\u001b[43mget_loc\u001b[49m\u001b[43m(\u001b[49m\u001b[43mcasted_key\u001b[49m\u001b[43m)\u001b[49m\n\u001b[0;32m   3806\u001b[0m \u001b[38;5;28;01mexcept\u001b[39;00m \u001b[38;5;167;01mKeyError\u001b[39;00m \u001b[38;5;28;01mas\u001b[39;00m err:\n",
      "File \u001b[1;32mindex.pyx:167\u001b[0m, in \u001b[0;36mpandas._libs.index.IndexEngine.get_loc\u001b[1;34m()\u001b[0m\n",
      "File \u001b[1;32mindex.pyx:196\u001b[0m, in \u001b[0;36mpandas._libs.index.IndexEngine.get_loc\u001b[1;34m()\u001b[0m\n",
      "File \u001b[1;32mpandas\\\\_libs\\\\hashtable_class_helper.pxi:7081\u001b[0m, in \u001b[0;36mpandas._libs.hashtable.PyObjectHashTable.get_item\u001b[1;34m()\u001b[0m\n",
      "File \u001b[1;32mpandas\\\\_libs\\\\hashtable_class_helper.pxi:7089\u001b[0m, in \u001b[0;36mpandas._libs.hashtable.PyObjectHashTable.get_item\u001b[1;34m()\u001b[0m\n",
      "\u001b[1;31mKeyError\u001b[0m: 'Tomato Big(Nepali)'",
      "\nThe above exception was the direct cause of the following exception:\n",
      "\u001b[1;31mKeyError\u001b[0m                                  Traceback (most recent call last)",
      "Cell \u001b[1;32mIn[13], line 1\u001b[0m\n\u001b[1;32m----> 1\u001b[0m \u001b[38;5;28mlen\u001b[39m(\u001b[43mdf2\u001b[49m\u001b[43m[\u001b[49m\u001b[38;5;124;43m'\u001b[39;49m\u001b[38;5;124;43mTomato Big(Nepali)\u001b[39;49m\u001b[38;5;124;43m'\u001b[39;49m\u001b[43m]\u001b[49m\u001b[38;5;241m.\u001b[39munique())\n",
      "File \u001b[1;32m~\\AppData\\Local\\Programs\\Python\\Python312\\Lib\\site-packages\\pandas\\core\\frame.py:4102\u001b[0m, in \u001b[0;36mDataFrame.__getitem__\u001b[1;34m(self, key)\u001b[0m\n\u001b[0;32m   4100\u001b[0m \u001b[38;5;28;01mif\u001b[39;00m \u001b[38;5;28mself\u001b[39m\u001b[38;5;241m.\u001b[39mcolumns\u001b[38;5;241m.\u001b[39mnlevels \u001b[38;5;241m>\u001b[39m \u001b[38;5;241m1\u001b[39m:\n\u001b[0;32m   4101\u001b[0m     \u001b[38;5;28;01mreturn\u001b[39;00m \u001b[38;5;28mself\u001b[39m\u001b[38;5;241m.\u001b[39m_getitem_multilevel(key)\n\u001b[1;32m-> 4102\u001b[0m indexer \u001b[38;5;241m=\u001b[39m \u001b[38;5;28;43mself\u001b[39;49m\u001b[38;5;241;43m.\u001b[39;49m\u001b[43mcolumns\u001b[49m\u001b[38;5;241;43m.\u001b[39;49m\u001b[43mget_loc\u001b[49m\u001b[43m(\u001b[49m\u001b[43mkey\u001b[49m\u001b[43m)\u001b[49m\n\u001b[0;32m   4103\u001b[0m \u001b[38;5;28;01mif\u001b[39;00m is_integer(indexer):\n\u001b[0;32m   4104\u001b[0m     indexer \u001b[38;5;241m=\u001b[39m [indexer]\n",
      "File \u001b[1;32m~\\AppData\\Local\\Programs\\Python\\Python312\\Lib\\site-packages\\pandas\\core\\indexes\\base.py:3812\u001b[0m, in \u001b[0;36mIndex.get_loc\u001b[1;34m(self, key)\u001b[0m\n\u001b[0;32m   3807\u001b[0m     \u001b[38;5;28;01mif\u001b[39;00m \u001b[38;5;28misinstance\u001b[39m(casted_key, \u001b[38;5;28mslice\u001b[39m) \u001b[38;5;129;01mor\u001b[39;00m (\n\u001b[0;32m   3808\u001b[0m         \u001b[38;5;28misinstance\u001b[39m(casted_key, abc\u001b[38;5;241m.\u001b[39mIterable)\n\u001b[0;32m   3809\u001b[0m         \u001b[38;5;129;01mand\u001b[39;00m \u001b[38;5;28many\u001b[39m(\u001b[38;5;28misinstance\u001b[39m(x, \u001b[38;5;28mslice\u001b[39m) \u001b[38;5;28;01mfor\u001b[39;00m x \u001b[38;5;129;01min\u001b[39;00m casted_key)\n\u001b[0;32m   3810\u001b[0m     ):\n\u001b[0;32m   3811\u001b[0m         \u001b[38;5;28;01mraise\u001b[39;00m InvalidIndexError(key)\n\u001b[1;32m-> 3812\u001b[0m     \u001b[38;5;28;01mraise\u001b[39;00m \u001b[38;5;167;01mKeyError\u001b[39;00m(key) \u001b[38;5;28;01mfrom\u001b[39;00m \u001b[38;5;21;01merr\u001b[39;00m\n\u001b[0;32m   3813\u001b[0m \u001b[38;5;28;01mexcept\u001b[39;00m \u001b[38;5;167;01mTypeError\u001b[39;00m:\n\u001b[0;32m   3814\u001b[0m     \u001b[38;5;66;03m# If we have a listlike key, _check_indexing_error will raise\u001b[39;00m\n\u001b[0;32m   3815\u001b[0m     \u001b[38;5;66;03m#  InvalidIndexError. Otherwise we fall through and re-raise\u001b[39;00m\n\u001b[0;32m   3816\u001b[0m     \u001b[38;5;66;03m#  the TypeError.\u001b[39;00m\n\u001b[0;32m   3817\u001b[0m     \u001b[38;5;28mself\u001b[39m\u001b[38;5;241m.\u001b[39m_check_indexing_error(key)\n",
      "\u001b[1;31mKeyError\u001b[0m: 'Tomato Big(Nepali)'"
     ]
    }
   ],
   "source": [
    "len(df2['Tomato Big(Nepali)'].unique())"
   ]
  },
  {
   "cell_type": "code",
   "execution_count": 20,
   "id": "1fede62b-8626-44e3-a7d8-79cbec460009",
   "metadata": {},
   "outputs": [
    {
     "data": {
      "text/plain": [
       "Commodity\n",
       "Ginger                  2751\n",
       "Cauli Local             2750\n",
       "Cabbage(Local)          2749\n",
       "Chilli Dry              2748\n",
       "Raddish White(Local)    2747\n",
       "                        ... \n",
       "Maize                     24\n",
       "Mango(Calcutte)           23\n",
       "Sweet Lime                14\n",
       "Musk Melon                10\n",
       "Mango(Chousa)              2\n",
       "Name: count, Length: 132, dtype: int64"
      ]
     },
     "execution_count": 20,
     "metadata": {},
     "output_type": "execute_result"
    }
   ],
   "source": [
    "df1['Commodity'].value_counts()"
   ]
  },
  {
   "cell_type": "markdown",
   "id": "636ed3f7-91b4-4916-92be-3ba2183e7c8a",
   "metadata": {},
   "source": [
    "## TASK 3: I think there are repeated values in the Commdity fields. I might need to make a table for repeated things."
   ]
  },
  {
   "cell_type": "code",
   "execution_count": 21,
   "id": "972d724d-67b1-4a17-8bc9-7b8ee21a038e",
   "metadata": {},
   "outputs": [
    {
     "data": {
      "text/plain": [
       "Unit\n",
       "Kg      184408\n",
       "KG        6889\n",
       "1 Pc      3120\n",
       "Doz       2744\n",
       "Name: count, dtype: int64"
      ]
     },
     "execution_count": 21,
     "metadata": {},
     "output_type": "execute_result"
    }
   ],
   "source": [
    "df1['Unit'].value_counts()"
   ]
  },
  {
   "cell_type": "code",
   "execution_count": 22,
   "id": "c54bd118-bdbb-4ad3-858b-fd9a55fc4514",
   "metadata": {},
   "outputs": [
    {
     "data": {
      "text/plain": [
       "Unit\n",
       "Kg      184408\n",
       "KG        6889\n",
       "1 Pc      3120\n",
       "Doz       2744\n",
       "Name: count, dtype: int64"
      ]
     },
     "execution_count": 22,
     "metadata": {},
     "output_type": "execute_result"
    }
   ],
   "source": [
    "df1['Unit'].value_counts()"
   ]
  },
  {
   "cell_type": "markdown",
   "id": "6e4142d7-1aa6-4569-85c0-6b4e3ac10b58",
   "metadata": {},
   "source": [
    "## TASK 4: Hey Nabin, Give a proper namings to the df2's column, Okaaaaaay?"
   ]
  },
  {
   "cell_type": "code",
   "execution_count": null,
   "id": "15d8976d-2701-40d8-9b0d-acfaced31465",
   "metadata": {},
   "outputs": [],
   "source": []
  },
  {
   "cell_type": "code",
   "execution_count": null,
   "id": "dabec417-1971-4a18-9e1b-6a0d2585ea3e",
   "metadata": {},
   "outputs": [],
   "source": []
  },
  {
   "cell_type": "markdown",
   "id": "c79ffcaf-76f3-46fb-b77e-45172998795d",
   "metadata": {},
   "source": [
    "## TASK 5: Understand the meaning of the max, min, and average or if needed make something different."
   ]
  },
  {
   "cell_type": "markdown",
   "id": "28907790-b469-4232-990c-b286e83891ee",
   "metadata": {},
   "source": [
    "## TASK 6: Make sure to check the Data Value constraints"
   ]
  },
  {
   "cell_type": "code",
   "execution_count": null,
   "id": "babc3b9c-1067-456a-a653-e44382769b3d",
   "metadata": {},
   "outputs": [],
   "source": []
  },
  {
   "cell_type": "code",
   "execution_count": null,
   "id": "f3fe8ba8-a728-4b2d-a365-ac8ba8df7c50",
   "metadata": {},
   "outputs": [],
   "source": []
  },
  {
   "cell_type": "markdown",
   "id": "b5164ce8-bea2-4b4b-b012-e903e2310c07",
   "metadata": {},
   "source": [
    "# Let's Start"
   ]
  },
  {
   "cell_type": "code",
   "execution_count": 23,
   "id": "d7478a6f-914b-4967-814f-16affc4e19f7",
   "metadata": {},
   "outputs": [
    {
     "data": {
      "text/html": [
       "<div>\n",
       "<style scoped>\n",
       "    .dataframe tbody tr th:only-of-type {\n",
       "        vertical-align: middle;\n",
       "    }\n",
       "\n",
       "    .dataframe tbody tr th {\n",
       "        vertical-align: top;\n",
       "    }\n",
       "\n",
       "    .dataframe thead th {\n",
       "        text-align: right;\n",
       "    }\n",
       "</style>\n",
       "<table border=\"1\" class=\"dataframe\">\n",
       "  <thead>\n",
       "    <tr style=\"text-align: right;\">\n",
       "      <th></th>\n",
       "      <th>Commodity</th>\n",
       "      <th>Date</th>\n",
       "      <th>Unit</th>\n",
       "      <th>Minimum</th>\n",
       "      <th>Maximum</th>\n",
       "      <th>Average</th>\n",
       "    </tr>\n",
       "  </thead>\n",
       "  <tbody>\n",
       "    <tr>\n",
       "      <th>0</th>\n",
       "      <td>Tomato Big(Nepali)</td>\n",
       "      <td>2013-06-16</td>\n",
       "      <td>Kg</td>\n",
       "      <td>35.0</td>\n",
       "      <td>40.0</td>\n",
       "      <td>37.5</td>\n",
       "    </tr>\n",
       "    <tr>\n",
       "      <th>1</th>\n",
       "      <td>Tomato Small(Local)</td>\n",
       "      <td>2013-06-16</td>\n",
       "      <td>Kg</td>\n",
       "      <td>26.0</td>\n",
       "      <td>32.0</td>\n",
       "      <td>29.0</td>\n",
       "    </tr>\n",
       "    <tr>\n",
       "      <th>2</th>\n",
       "      <td>Potato Red</td>\n",
       "      <td>2013-06-16</td>\n",
       "      <td>Kg</td>\n",
       "      <td>20.0</td>\n",
       "      <td>21.0</td>\n",
       "      <td>20.5</td>\n",
       "    </tr>\n",
       "    <tr>\n",
       "      <th>3</th>\n",
       "      <td>Potato White</td>\n",
       "      <td>2013-06-16</td>\n",
       "      <td>Kg</td>\n",
       "      <td>15.0</td>\n",
       "      <td>16.0</td>\n",
       "      <td>15.5</td>\n",
       "    </tr>\n",
       "    <tr>\n",
       "      <th>4</th>\n",
       "      <td>Onion Dry (Indian)</td>\n",
       "      <td>2013-06-16</td>\n",
       "      <td>Kg</td>\n",
       "      <td>28.0</td>\n",
       "      <td>30.0</td>\n",
       "      <td>29.0</td>\n",
       "    </tr>\n",
       "    <tr>\n",
       "      <th>...</th>\n",
       "      <td>...</td>\n",
       "      <td>...</td>\n",
       "      <td>...</td>\n",
       "      <td>...</td>\n",
       "      <td>...</td>\n",
       "      <td>...</td>\n",
       "    </tr>\n",
       "    <tr>\n",
       "      <th>96475</th>\n",
       "      <td>Tomato Small(Indian)</td>\n",
       "      <td>2023-09-28</td>\n",
       "      <td>KG</td>\n",
       "      <td>Rs 45.00</td>\n",
       "      <td>Rs 55.00</td>\n",
       "      <td>Rs 50.00</td>\n",
       "    </tr>\n",
       "    <tr>\n",
       "      <th>96476</th>\n",
       "      <td>Tomato Small(Local)</td>\n",
       "      <td>2023-09-28</td>\n",
       "      <td>KG</td>\n",
       "      <td>Rs 50.00</td>\n",
       "      <td>Rs 60.00</td>\n",
       "      <td>Rs 55.00</td>\n",
       "    </tr>\n",
       "    <tr>\n",
       "      <th>96477</th>\n",
       "      <td>Tomato Small(Tunnel)</td>\n",
       "      <td>2023-09-28</td>\n",
       "      <td>KG</td>\n",
       "      <td>Rs 60.00</td>\n",
       "      <td>Rs 75.00</td>\n",
       "      <td>Rs 69.00</td>\n",
       "    </tr>\n",
       "    <tr>\n",
       "      <th>96478</th>\n",
       "      <td>Turnip A</td>\n",
       "      <td>2023-09-28</td>\n",
       "      <td>KG</td>\n",
       "      <td>Rs 70.00</td>\n",
       "      <td>Rs 80.00</td>\n",
       "      <td>Rs 75.00</td>\n",
       "    </tr>\n",
       "    <tr>\n",
       "      <th>96479</th>\n",
       "      <td>Water Melon(Green)</td>\n",
       "      <td>2023-09-28</td>\n",
       "      <td>KG</td>\n",
       "      <td>Rs 50.00</td>\n",
       "      <td>Rs 60.00</td>\n",
       "      <td>Rs 56.67</td>\n",
       "    </tr>\n",
       "  </tbody>\n",
       "</table>\n",
       "<p>293641 rows × 6 columns</p>\n",
       "</div>"
      ],
      "text/plain": [
       "                  Commodity        Date Unit   Minimum   Maximum   Average\n",
       "0        Tomato Big(Nepali)  2013-06-16   Kg      35.0      40.0      37.5\n",
       "1       Tomato Small(Local)  2013-06-16   Kg      26.0      32.0      29.0\n",
       "2                Potato Red  2013-06-16   Kg      20.0      21.0      20.5\n",
       "3              Potato White  2013-06-16   Kg      15.0      16.0      15.5\n",
       "4        Onion Dry (Indian)  2013-06-16   Kg      28.0      30.0      29.0\n",
       "...                     ...         ...  ...       ...       ...       ...\n",
       "96475  Tomato Small(Indian)  2023-09-28   KG  Rs 45.00  Rs 55.00  Rs 50.00\n",
       "96476   Tomato Small(Local)  2023-09-28   KG  Rs 50.00  Rs 60.00  Rs 55.00\n",
       "96477  Tomato Small(Tunnel)  2023-09-28   KG  Rs 60.00  Rs 75.00  Rs 69.00\n",
       "96478              Turnip A  2023-09-28   KG  Rs 70.00  Rs 80.00  Rs 75.00\n",
       "96479    Water Melon(Green)  2023-09-28   KG  Rs 50.00  Rs 60.00  Rs 56.67\n",
       "\n",
       "[293641 rows x 6 columns]"
      ]
     },
     "execution_count": 23,
     "metadata": {},
     "output_type": "execute_result"
    }
   ],
   "source": [
    "df3"
   ]
  },
  {
   "cell_type": "markdown",
   "id": "df5b2009-5fd8-4176-8650-156c954636a7",
   "metadata": {},
   "source": [
    "# TASK: Removing the RS"
   ]
  },
  {
   "cell_type": "code",
   "execution_count": 24,
   "id": "11146d09-5d4c-4ef4-be3a-3eb90d0fbdc0",
   "metadata": {},
   "outputs": [],
   "source": [
    "df3['Minimum'] = df3['Minimum'].apply(lambda x: float(x.replace('Rs', '').strip()) if isinstance(x, str) and 'Rs' in x else float(x))"
   ]
  },
  {
   "cell_type": "code",
   "execution_count": 25,
   "id": "582d4d19-e379-406e-93ad-ea132d867d58",
   "metadata": {},
   "outputs": [],
   "source": [
    "df3['Maximum'] = df3['Maximum'].apply(lambda x: float(x.replace('Rs', '').strip()) if isinstance(x, str) and 'Rs' in x else float(x))"
   ]
  },
  {
   "cell_type": "code",
   "execution_count": 26,
   "id": "91ca55c0-0eda-4fa9-b45d-0854c7b45778",
   "metadata": {},
   "outputs": [],
   "source": [
    "df3['Average'] = df3['Average'].apply(lambda x: float(x.replace('Rs', '').strip()) if isinstance(x, str) and 'Rs' in x else float(x))"
   ]
  },
  {
   "cell_type": "code",
   "execution_count": 27,
   "id": "1d20bf5d-dbc8-4c32-8e12-338ca14756ad",
   "metadata": {},
   "outputs": [
    {
     "data": {
      "text/html": [
       "<div>\n",
       "<style scoped>\n",
       "    .dataframe tbody tr th:only-of-type {\n",
       "        vertical-align: middle;\n",
       "    }\n",
       "\n",
       "    .dataframe tbody tr th {\n",
       "        vertical-align: top;\n",
       "    }\n",
       "\n",
       "    .dataframe thead th {\n",
       "        text-align: right;\n",
       "    }\n",
       "</style>\n",
       "<table border=\"1\" class=\"dataframe\">\n",
       "  <thead>\n",
       "    <tr style=\"text-align: right;\">\n",
       "      <th></th>\n",
       "      <th>Commodity</th>\n",
       "      <th>Date</th>\n",
       "      <th>Unit</th>\n",
       "      <th>Minimum</th>\n",
       "      <th>Maximum</th>\n",
       "      <th>Average</th>\n",
       "    </tr>\n",
       "  </thead>\n",
       "  <tbody>\n",
       "    <tr>\n",
       "      <th>0</th>\n",
       "      <td>Tomato Big(Nepali)</td>\n",
       "      <td>2013-06-16</td>\n",
       "      <td>Kg</td>\n",
       "      <td>35.0</td>\n",
       "      <td>40.0</td>\n",
       "      <td>37.5</td>\n",
       "    </tr>\n",
       "    <tr>\n",
       "      <th>1</th>\n",
       "      <td>Tomato Small(Local)</td>\n",
       "      <td>2013-06-16</td>\n",
       "      <td>Kg</td>\n",
       "      <td>26.0</td>\n",
       "      <td>32.0</td>\n",
       "      <td>29.0</td>\n",
       "    </tr>\n",
       "    <tr>\n",
       "      <th>2</th>\n",
       "      <td>Potato Red</td>\n",
       "      <td>2013-06-16</td>\n",
       "      <td>Kg</td>\n",
       "      <td>20.0</td>\n",
       "      <td>21.0</td>\n",
       "      <td>20.5</td>\n",
       "    </tr>\n",
       "    <tr>\n",
       "      <th>3</th>\n",
       "      <td>Potato White</td>\n",
       "      <td>2013-06-16</td>\n",
       "      <td>Kg</td>\n",
       "      <td>15.0</td>\n",
       "      <td>16.0</td>\n",
       "      <td>15.5</td>\n",
       "    </tr>\n",
       "    <tr>\n",
       "      <th>4</th>\n",
       "      <td>Onion Dry (Indian)</td>\n",
       "      <td>2013-06-16</td>\n",
       "      <td>Kg</td>\n",
       "      <td>28.0</td>\n",
       "      <td>30.0</td>\n",
       "      <td>29.0</td>\n",
       "    </tr>\n",
       "  </tbody>\n",
       "</table>\n",
       "</div>"
      ],
      "text/plain": [
       "             Commodity        Date Unit  Minimum  Maximum  Average\n",
       "0   Tomato Big(Nepali)  2013-06-16   Kg     35.0     40.0     37.5\n",
       "1  Tomato Small(Local)  2013-06-16   Kg     26.0     32.0     29.0\n",
       "2           Potato Red  2013-06-16   Kg     20.0     21.0     20.5\n",
       "3         Potato White  2013-06-16   Kg     15.0     16.0     15.5\n",
       "4   Onion Dry (Indian)  2013-06-16   Kg     28.0     30.0     29.0"
      ]
     },
     "execution_count": 27,
     "metadata": {},
     "output_type": "execute_result"
    }
   ],
   "source": [
    "df3.head()"
   ]
  },
  {
   "cell_type": "markdown",
   "id": "8ceb9e9a-8ad9-40d1-831a-18f9c3d13cb7",
   "metadata": {},
   "source": [
    "# Let's touch the Date"
   ]
  },
  {
   "cell_type": "code",
   "execution_count": 28,
   "id": "cc6269b7-b899-4f02-a3b0-29791bbb79a5",
   "metadata": {},
   "outputs": [
    {
     "data": {
      "text/plain": [
       "0        2013-06-16\n",
       "1        2013-06-16\n",
       "2        2013-06-16\n",
       "3        2013-06-16\n",
       "4        2013-06-16\n",
       "            ...    \n",
       "96475    2023-09-28\n",
       "96476    2023-09-28\n",
       "96477    2023-09-28\n",
       "96478    2023-09-28\n",
       "96479    2023-09-28\n",
       "Name: Date, Length: 293641, dtype: object"
      ]
     },
     "execution_count": 28,
     "metadata": {},
     "output_type": "execute_result"
    }
   ],
   "source": [
    "df3['Date']"
   ]
  },
  {
   "cell_type": "code",
   "execution_count": 29,
   "id": "a5ff3ca6-ad02-419f-bfdf-5f4d461926a9",
   "metadata": {},
   "outputs": [],
   "source": [
    "df3['Date'] = pd.to_datetime(df3['Date'],format='mixed')"
   ]
  },
  {
   "cell_type": "code",
   "execution_count": 30,
   "id": "bef3c734-9638-4864-8542-0e4038b1433d",
   "metadata": {},
   "outputs": [
    {
     "name": "stdout",
     "output_type": "stream",
     "text": [
      "min:  2013-06-16 00:00:00 \n",
      "max:  2023-09-28 00:00:00\n"
     ]
    }
   ],
   "source": [
    "print(\"min: \",df3['Date'].min(), \"\\nmax: \",df3['Date'].max())"
   ]
  },
  {
   "cell_type": "code",
   "execution_count": 31,
   "id": "cb8d6b17-3a7b-4f0a-988d-596595ad1cd7",
   "metadata": {},
   "outputs": [
    {
     "data": {
      "text/html": [
       "<div>\n",
       "<style scoped>\n",
       "    .dataframe tbody tr th:only-of-type {\n",
       "        vertical-align: middle;\n",
       "    }\n",
       "\n",
       "    .dataframe tbody tr th {\n",
       "        vertical-align: top;\n",
       "    }\n",
       "\n",
       "    .dataframe thead th {\n",
       "        text-align: right;\n",
       "    }\n",
       "</style>\n",
       "<table border=\"1\" class=\"dataframe\">\n",
       "  <thead>\n",
       "    <tr style=\"text-align: right;\">\n",
       "      <th></th>\n",
       "      <th>Commodity</th>\n",
       "      <th>Date</th>\n",
       "      <th>Unit</th>\n",
       "      <th>Minimum</th>\n",
       "      <th>Maximum</th>\n",
       "      <th>Average</th>\n",
       "    </tr>\n",
       "  </thead>\n",
       "  <tbody>\n",
       "    <tr>\n",
       "      <th>0</th>\n",
       "      <td>Tomato Big(Nepali)</td>\n",
       "      <td>2013-06-16</td>\n",
       "      <td>Kg</td>\n",
       "      <td>35.0</td>\n",
       "      <td>40.0</td>\n",
       "      <td>37.50</td>\n",
       "    </tr>\n",
       "    <tr>\n",
       "      <th>1</th>\n",
       "      <td>Tomato Small(Local)</td>\n",
       "      <td>2013-06-16</td>\n",
       "      <td>Kg</td>\n",
       "      <td>26.0</td>\n",
       "      <td>32.0</td>\n",
       "      <td>29.00</td>\n",
       "    </tr>\n",
       "    <tr>\n",
       "      <th>2</th>\n",
       "      <td>Potato Red</td>\n",
       "      <td>2013-06-16</td>\n",
       "      <td>Kg</td>\n",
       "      <td>20.0</td>\n",
       "      <td>21.0</td>\n",
       "      <td>20.50</td>\n",
       "    </tr>\n",
       "    <tr>\n",
       "      <th>3</th>\n",
       "      <td>Potato White</td>\n",
       "      <td>2013-06-16</td>\n",
       "      <td>Kg</td>\n",
       "      <td>15.0</td>\n",
       "      <td>16.0</td>\n",
       "      <td>15.50</td>\n",
       "    </tr>\n",
       "    <tr>\n",
       "      <th>4</th>\n",
       "      <td>Onion Dry (Indian)</td>\n",
       "      <td>2013-06-16</td>\n",
       "      <td>Kg</td>\n",
       "      <td>28.0</td>\n",
       "      <td>30.0</td>\n",
       "      <td>29.00</td>\n",
       "    </tr>\n",
       "    <tr>\n",
       "      <th>...</th>\n",
       "      <td>...</td>\n",
       "      <td>...</td>\n",
       "      <td>...</td>\n",
       "      <td>...</td>\n",
       "      <td>...</td>\n",
       "      <td>...</td>\n",
       "    </tr>\n",
       "    <tr>\n",
       "      <th>96475</th>\n",
       "      <td>Tomato Small(Indian)</td>\n",
       "      <td>2023-09-28</td>\n",
       "      <td>KG</td>\n",
       "      <td>45.0</td>\n",
       "      <td>55.0</td>\n",
       "      <td>50.00</td>\n",
       "    </tr>\n",
       "    <tr>\n",
       "      <th>96476</th>\n",
       "      <td>Tomato Small(Local)</td>\n",
       "      <td>2023-09-28</td>\n",
       "      <td>KG</td>\n",
       "      <td>50.0</td>\n",
       "      <td>60.0</td>\n",
       "      <td>55.00</td>\n",
       "    </tr>\n",
       "    <tr>\n",
       "      <th>96477</th>\n",
       "      <td>Tomato Small(Tunnel)</td>\n",
       "      <td>2023-09-28</td>\n",
       "      <td>KG</td>\n",
       "      <td>60.0</td>\n",
       "      <td>75.0</td>\n",
       "      <td>69.00</td>\n",
       "    </tr>\n",
       "    <tr>\n",
       "      <th>96478</th>\n",
       "      <td>Turnip A</td>\n",
       "      <td>2023-09-28</td>\n",
       "      <td>KG</td>\n",
       "      <td>70.0</td>\n",
       "      <td>80.0</td>\n",
       "      <td>75.00</td>\n",
       "    </tr>\n",
       "    <tr>\n",
       "      <th>96479</th>\n",
       "      <td>Water Melon(Green)</td>\n",
       "      <td>2023-09-28</td>\n",
       "      <td>KG</td>\n",
       "      <td>50.0</td>\n",
       "      <td>60.0</td>\n",
       "      <td>56.67</td>\n",
       "    </tr>\n",
       "  </tbody>\n",
       "</table>\n",
       "<p>293641 rows × 6 columns</p>\n",
       "</div>"
      ],
      "text/plain": [
       "                  Commodity       Date Unit  Minimum  Maximum  Average\n",
       "0        Tomato Big(Nepali) 2013-06-16   Kg     35.0     40.0    37.50\n",
       "1       Tomato Small(Local) 2013-06-16   Kg     26.0     32.0    29.00\n",
       "2                Potato Red 2013-06-16   Kg     20.0     21.0    20.50\n",
       "3              Potato White 2013-06-16   Kg     15.0     16.0    15.50\n",
       "4        Onion Dry (Indian) 2013-06-16   Kg     28.0     30.0    29.00\n",
       "...                     ...        ...  ...      ...      ...      ...\n",
       "96475  Tomato Small(Indian) 2023-09-28   KG     45.0     55.0    50.00\n",
       "96476   Tomato Small(Local) 2023-09-28   KG     50.0     60.0    55.00\n",
       "96477  Tomato Small(Tunnel) 2023-09-28   KG     60.0     75.0    69.00\n",
       "96478              Turnip A 2023-09-28   KG     70.0     80.0    75.00\n",
       "96479    Water Melon(Green) 2023-09-28   KG     50.0     60.0    56.67\n",
       "\n",
       "[293641 rows x 6 columns]"
      ]
     },
     "execution_count": 31,
     "metadata": {},
     "output_type": "execute_result"
    }
   ],
   "source": [
    "df3"
   ]
  },
  {
   "cell_type": "markdown",
   "id": "1d810740-fd06-474c-b90a-8963d34c68f2",
   "metadata": {},
   "source": [
    "## TASK: Fixing the upper and lowercase of Unit"
   ]
  },
  {
   "cell_type": "code",
   "execution_count": 32,
   "id": "5498c3ed-0aef-428b-aeee-ca669798eba0",
   "metadata": {},
   "outputs": [
    {
     "data": {
      "text/plain": [
       "array(['Kg', 'Doz', '1 Pc', 'KG', 'Per Dozen', 'Per Piece'], dtype=object)"
      ]
     },
     "execution_count": 32,
     "metadata": {},
     "output_type": "execute_result"
    }
   ],
   "source": [
    "df3['Unit'].unique()"
   ]
  },
  {
   "cell_type": "code",
   "execution_count": 33,
   "id": "7f6029ea-1ddb-46aa-8b68-d9b61e718093",
   "metadata": {},
   "outputs": [],
   "source": [
    "df3['Unit'] = df3['Unit'].str.lower()"
   ]
  },
  {
   "cell_type": "code",
   "execution_count": 34,
   "id": "dbbf1342-b94e-43c6-bfff-288d81244935",
   "metadata": {},
   "outputs": [
    {
     "data": {
      "text/plain": [
       "array(['kg', 'doz', '1 pc', 'per dozen', 'per piece'], dtype=object)"
      ]
     },
     "execution_count": 34,
     "metadata": {},
     "output_type": "execute_result"
    }
   ],
   "source": [
    "df3['Unit'].unique()"
   ]
  },
  {
   "cell_type": "code",
   "execution_count": 35,
   "id": "3f90b842-35b5-4199-b257-5553a9d8a09a",
   "metadata": {},
   "outputs": [
    {
     "name": "stderr",
     "output_type": "stream",
     "text": [
      "C:\\Users\\whoami\\AppData\\Local\\Temp\\ipykernel_26292\\721763613.py:1: FutureWarning: ChainedAssignmentError: behaviour will change in pandas 3.0!\n",
      "You are setting values through chained assignment. Currently this works in certain cases, but when using Copy-on-Write (which will become the default behaviour in pandas 3.0) this will never work to update the original DataFrame or Series, because the intermediate object on which we are setting values will behave as a copy.\n",
      "A typical example is when you are setting values in a column of a DataFrame, like:\n",
      "\n",
      "df[\"col\"][row_indexer] = value\n",
      "\n",
      "Use `df.loc[row_indexer, \"col\"] = values` instead, to perform the assignment in a single step and ensure this keeps updating the original `df`.\n",
      "\n",
      "See the caveats in the documentation: https://pandas.pydata.org/pandas-docs/stable/user_guide/indexing.html#returning-a-view-versus-a-copy\n",
      "\n",
      "  df3['Unit'][df3['Unit'] == \"1 pc\"] = 'per piece'\n",
      "C:\\Users\\whoami\\AppData\\Local\\Temp\\ipykernel_26292\\721763613.py:1: SettingWithCopyWarning: \n",
      "A value is trying to be set on a copy of a slice from a DataFrame\n",
      "\n",
      "See the caveats in the documentation: https://pandas.pydata.org/pandas-docs/stable/user_guide/indexing.html#returning-a-view-versus-a-copy\n",
      "  df3['Unit'][df3['Unit'] == \"1 pc\"] = 'per piece'\n"
     ]
    }
   ],
   "source": [
    "df3['Unit'][df3['Unit'] == \"1 pc\"] = 'per piece'"
   ]
  },
  {
   "cell_type": "code",
   "execution_count": 36,
   "id": "85a50344-5c89-4e66-b1d0-a15f13c24654",
   "metadata": {},
   "outputs": [
    {
     "data": {
      "text/plain": [
       "array(['kg', 'doz', 'per piece', 'per dozen'], dtype=object)"
      ]
     },
     "execution_count": 36,
     "metadata": {},
     "output_type": "execute_result"
    }
   ],
   "source": [
    "df3['Unit'].unique()"
   ]
  },
  {
   "cell_type": "code",
   "execution_count": 37,
   "id": "950f1069-8954-4212-a4f1-aa4d3de41899",
   "metadata": {},
   "outputs": [
    {
     "name": "stderr",
     "output_type": "stream",
     "text": [
      "C:\\Users\\whoami\\AppData\\Local\\Temp\\ipykernel_26292\\1599315007.py:1: FutureWarning: ChainedAssignmentError: behaviour will change in pandas 3.0!\n",
      "You are setting values through chained assignment. Currently this works in certain cases, but when using Copy-on-Write (which will become the default behaviour in pandas 3.0) this will never work to update the original DataFrame or Series, because the intermediate object on which we are setting values will behave as a copy.\n",
      "A typical example is when you are setting values in a column of a DataFrame, like:\n",
      "\n",
      "df[\"col\"][row_indexer] = value\n",
      "\n",
      "Use `df.loc[row_indexer, \"col\"] = values` instead, to perform the assignment in a single step and ensure this keeps updating the original `df`.\n",
      "\n",
      "See the caveats in the documentation: https://pandas.pydata.org/pandas-docs/stable/user_guide/indexing.html#returning-a-view-versus-a-copy\n",
      "\n",
      "  df3['Unit'][df3['Unit'] == \"doz\"] = 'per dozen'\n",
      "C:\\Users\\whoami\\AppData\\Local\\Temp\\ipykernel_26292\\1599315007.py:1: SettingWithCopyWarning: \n",
      "A value is trying to be set on a copy of a slice from a DataFrame\n",
      "\n",
      "See the caveats in the documentation: https://pandas.pydata.org/pandas-docs/stable/user_guide/indexing.html#returning-a-view-versus-a-copy\n",
      "  df3['Unit'][df3['Unit'] == \"doz\"] = 'per dozen'\n"
     ]
    }
   ],
   "source": [
    "df3['Unit'][df3['Unit'] == \"doz\"] = 'per dozen'"
   ]
  },
  {
   "cell_type": "code",
   "execution_count": 38,
   "id": "139fdcfe-863f-42e0-94a6-72e341e84ca2",
   "metadata": {},
   "outputs": [
    {
     "data": {
      "text/plain": [
       "array(['kg', 'per dozen', 'per piece'], dtype=object)"
      ]
     },
     "execution_count": 38,
     "metadata": {},
     "output_type": "execute_result"
    }
   ],
   "source": [
    "df3['Unit'].unique()"
   ]
  },
  {
   "cell_type": "markdown",
   "id": "8398cc82-1898-4284-a8fa-e1da6727d80b",
   "metadata": {},
   "source": [
    "## Looking at the Commodity"
   ]
  },
  {
   "cell_type": "code",
   "execution_count": 39,
   "id": "bded9795-45d2-4719-bcc5-622048bf28d3",
   "metadata": {},
   "outputs": [
    {
     "data": {
      "text/plain": [
       "Commodity\n",
       "Cauli Local            3741\n",
       "Ginger                 3741\n",
       "Chilli Dry             3738\n",
       "Banana                 3733\n",
       "Coriander Green        3732\n",
       "                       ... \n",
       "Tree Tomato             109\n",
       "Water Melon(Dotted)      64\n",
       "Maize                    24\n",
       "Sweet Lime               23\n",
       "Musk Melon               10\n",
       "Name: count, Length: 136, dtype: int64"
      ]
     },
     "execution_count": 39,
     "metadata": {},
     "output_type": "execute_result"
    }
   ],
   "source": [
    "df3['Commodity'].value_counts()"
   ]
  },
  {
   "cell_type": "markdown",
   "id": "bffa1c4c-2041-41a4-b58c-6c90484efeed",
   "metadata": {},
   "source": [
    "# TASK: Now plotting the time series data "
   ]
  },
  {
   "cell_type": "code",
   "execution_count": 40,
   "id": "690543eb-c6e1-47cf-acb6-f221f61135fc",
   "metadata": {},
   "outputs": [
    {
     "data": {
      "text/plain": [
       "3616"
      ]
     },
     "execution_count": 40,
     "metadata": {},
     "output_type": "execute_result"
    }
   ],
   "source": [
    "len(df3['Date'].unique())"
   ]
  },
  {
   "cell_type": "code",
   "execution_count": 41,
   "id": "519b0de4-6359-4b39-af82-08f51bec007c",
   "metadata": {},
   "outputs": [
    {
     "data": {
      "text/plain": [
       "Timedelta('3756 days 00:00:00')"
      ]
     },
     "execution_count": 41,
     "metadata": {},
     "output_type": "execute_result"
    }
   ],
   "source": [
    "df3['Date'].max() - df3['Date'].min()"
   ]
  },
  {
   "cell_type": "code",
   "execution_count": 42,
   "id": "159ea8a8-c62b-472b-83e4-457caa4de9ca",
   "metadata": {},
   "outputs": [
    {
     "data": {
      "text/html": [
       "<div>\n",
       "<style scoped>\n",
       "    .dataframe tbody tr th:only-of-type {\n",
       "        vertical-align: middle;\n",
       "    }\n",
       "\n",
       "    .dataframe tbody tr th {\n",
       "        vertical-align: top;\n",
       "    }\n",
       "\n",
       "    .dataframe thead th {\n",
       "        text-align: right;\n",
       "    }\n",
       "</style>\n",
       "<table border=\"1\" class=\"dataframe\">\n",
       "  <thead>\n",
       "    <tr style=\"text-align: right;\">\n",
       "      <th></th>\n",
       "      <th>Commodity</th>\n",
       "      <th>Date</th>\n",
       "      <th>Unit</th>\n",
       "      <th>Minimum</th>\n",
       "      <th>Maximum</th>\n",
       "      <th>Average</th>\n",
       "    </tr>\n",
       "  </thead>\n",
       "  <tbody>\n",
       "    <tr>\n",
       "      <th>0</th>\n",
       "      <td>Tomato Big(Nepali)</td>\n",
       "      <td>2013-06-16</td>\n",
       "      <td>kg</td>\n",
       "      <td>35.0</td>\n",
       "      <td>40.0</td>\n",
       "      <td>37.50</td>\n",
       "    </tr>\n",
       "    <tr>\n",
       "      <th>1</th>\n",
       "      <td>Tomato Small(Local)</td>\n",
       "      <td>2013-06-16</td>\n",
       "      <td>kg</td>\n",
       "      <td>26.0</td>\n",
       "      <td>32.0</td>\n",
       "      <td>29.00</td>\n",
       "    </tr>\n",
       "    <tr>\n",
       "      <th>2</th>\n",
       "      <td>Potato Red</td>\n",
       "      <td>2013-06-16</td>\n",
       "      <td>kg</td>\n",
       "      <td>20.0</td>\n",
       "      <td>21.0</td>\n",
       "      <td>20.50</td>\n",
       "    </tr>\n",
       "    <tr>\n",
       "      <th>3</th>\n",
       "      <td>Potato White</td>\n",
       "      <td>2013-06-16</td>\n",
       "      <td>kg</td>\n",
       "      <td>15.0</td>\n",
       "      <td>16.0</td>\n",
       "      <td>15.50</td>\n",
       "    </tr>\n",
       "    <tr>\n",
       "      <th>4</th>\n",
       "      <td>Onion Dry (Indian)</td>\n",
       "      <td>2013-06-16</td>\n",
       "      <td>kg</td>\n",
       "      <td>28.0</td>\n",
       "      <td>30.0</td>\n",
       "      <td>29.00</td>\n",
       "    </tr>\n",
       "    <tr>\n",
       "      <th>...</th>\n",
       "      <td>...</td>\n",
       "      <td>...</td>\n",
       "      <td>...</td>\n",
       "      <td>...</td>\n",
       "      <td>...</td>\n",
       "      <td>...</td>\n",
       "    </tr>\n",
       "    <tr>\n",
       "      <th>96475</th>\n",
       "      <td>Tomato Small(Indian)</td>\n",
       "      <td>2023-09-28</td>\n",
       "      <td>kg</td>\n",
       "      <td>45.0</td>\n",
       "      <td>55.0</td>\n",
       "      <td>50.00</td>\n",
       "    </tr>\n",
       "    <tr>\n",
       "      <th>96476</th>\n",
       "      <td>Tomato Small(Local)</td>\n",
       "      <td>2023-09-28</td>\n",
       "      <td>kg</td>\n",
       "      <td>50.0</td>\n",
       "      <td>60.0</td>\n",
       "      <td>55.00</td>\n",
       "    </tr>\n",
       "    <tr>\n",
       "      <th>96477</th>\n",
       "      <td>Tomato Small(Tunnel)</td>\n",
       "      <td>2023-09-28</td>\n",
       "      <td>kg</td>\n",
       "      <td>60.0</td>\n",
       "      <td>75.0</td>\n",
       "      <td>69.00</td>\n",
       "    </tr>\n",
       "    <tr>\n",
       "      <th>96478</th>\n",
       "      <td>Turnip A</td>\n",
       "      <td>2023-09-28</td>\n",
       "      <td>kg</td>\n",
       "      <td>70.0</td>\n",
       "      <td>80.0</td>\n",
       "      <td>75.00</td>\n",
       "    </tr>\n",
       "    <tr>\n",
       "      <th>96479</th>\n",
       "      <td>Water Melon(Green)</td>\n",
       "      <td>2023-09-28</td>\n",
       "      <td>kg</td>\n",
       "      <td>50.0</td>\n",
       "      <td>60.0</td>\n",
       "      <td>56.67</td>\n",
       "    </tr>\n",
       "  </tbody>\n",
       "</table>\n",
       "<p>293641 rows × 6 columns</p>\n",
       "</div>"
      ],
      "text/plain": [
       "                  Commodity       Date Unit  Minimum  Maximum  Average\n",
       "0        Tomato Big(Nepali) 2013-06-16   kg     35.0     40.0    37.50\n",
       "1       Tomato Small(Local) 2013-06-16   kg     26.0     32.0    29.00\n",
       "2                Potato Red 2013-06-16   kg     20.0     21.0    20.50\n",
       "3              Potato White 2013-06-16   kg     15.0     16.0    15.50\n",
       "4        Onion Dry (Indian) 2013-06-16   kg     28.0     30.0    29.00\n",
       "...                     ...        ...  ...      ...      ...      ...\n",
       "96475  Tomato Small(Indian) 2023-09-28   kg     45.0     55.0    50.00\n",
       "96476   Tomato Small(Local) 2023-09-28   kg     50.0     60.0    55.00\n",
       "96477  Tomato Small(Tunnel) 2023-09-28   kg     60.0     75.0    69.00\n",
       "96478              Turnip A 2023-09-28   kg     70.0     80.0    75.00\n",
       "96479    Water Melon(Green) 2023-09-28   kg     50.0     60.0    56.67\n",
       "\n",
       "[293641 rows x 6 columns]"
      ]
     },
     "execution_count": 42,
     "metadata": {},
     "output_type": "execute_result"
    }
   ],
   "source": [
    "df3"
   ]
  },
  {
   "cell_type": "code",
   "execution_count": 43,
   "id": "001e1965-ded2-4c1a-add4-f83ed62a4860",
   "metadata": {},
   "outputs": [
    {
     "name": "stdout",
     "output_type": "stream",
     "text": [
      "<class 'pandas.core.frame.DataFrame'>\n",
      "Index: 293641 entries, 0 to 96479\n",
      "Data columns (total 6 columns):\n",
      " #   Column     Non-Null Count   Dtype         \n",
      "---  ------     --------------   -----         \n",
      " 0   Commodity  293641 non-null  object        \n",
      " 1   Date       293641 non-null  datetime64[ns]\n",
      " 2   Unit       293641 non-null  object        \n",
      " 3   Minimum    293641 non-null  float64       \n",
      " 4   Maximum    293641 non-null  float64       \n",
      " 5   Average    293641 non-null  float64       \n",
      "dtypes: datetime64[ns](1), float64(3), object(2)\n",
      "memory usage: 15.7+ MB\n"
     ]
    }
   ],
   "source": [
    "df3.info()"
   ]
  },
  {
   "cell_type": "code",
   "execution_count": 44,
   "id": "e65c7f71-e364-4015-a391-cf89c24157cb",
   "metadata": {},
   "outputs": [],
   "source": [
    "df3.to_csv('cleaned_data.csv')"
   ]
  },
  {
   "cell_type": "code",
   "execution_count": null,
   "id": "2ce8f827-79e9-4661-b794-b22d967e4ed7",
   "metadata": {},
   "outputs": [],
   "source": []
  },
  {
   "cell_type": "code",
   "execution_count": null,
   "id": "0da6522b-d045-4991-8591-286716384c1a",
   "metadata": {},
   "outputs": [],
   "source": []
  },
  {
   "cell_type": "code",
   "execution_count": null,
   "id": "fdf0bce4-f807-409f-a08c-ad19e4647385",
   "metadata": {},
   "outputs": [],
   "source": []
  }
 ],
 "metadata": {
  "kernelspec": {
   "display_name": "Python 3 (ipykernel)",
   "language": "python",
   "name": "python3"
  },
  "language_info": {
   "codemirror_mode": {
    "name": "ipython",
    "version": 3
   },
   "file_extension": ".py",
   "mimetype": "text/x-python",
   "name": "python",
   "nbconvert_exporter": "python",
   "pygments_lexer": "ipython3",
   "version": "3.12.5"
  }
 },
 "nbformat": 4,
 "nbformat_minor": 5
}
