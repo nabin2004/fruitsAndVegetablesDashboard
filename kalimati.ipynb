{
 "cells": [
  {
   "cell_type": "markdown",
   "id": "f7a470e6-7a4c-4769-be4b-f20244367ad1",
   "metadata": {},
   "source": [
    "## Importing the importing libraries"
   ]
  },
  {
   "cell_type": "code",
   "execution_count": 2,
   "id": "fa0d70f0-0ab8-4819-9cd2-7aef416af85c",
   "metadata": {},
   "outputs": [],
   "source": [
    "import pandas as pd\n",
    "import numpy as np\n",
    "import matplotlib.pyplot as plt\n",
    "import seaborn as sns"
   ]
  },
  {
   "cell_type": "code",
   "execution_count": 4,
   "id": "fbdc99ca-e392-4d63-a4d9-02ed1056721f",
   "metadata": {},
   "outputs": [],
   "source": [
    "df1 = pd.read_csv(\"data/2013(June)-2021(May).csv\")\n",
    "df2 = pd.read_csv(\"data/may-2021-to-september-2023.csv\")"
   ]
  },
  {
   "cell_type": "code",
   "execution_count": 5,
   "id": "148553de-78a0-490a-b79c-4123be62cbdf",
   "metadata": {},
   "outputs": [
    {
     "data": {
      "text/html": [
       "<div>\n",
       "<style scoped>\n",
       "    .dataframe tbody tr th:only-of-type {\n",
       "        vertical-align: middle;\n",
       "    }\n",
       "\n",
       "    .dataframe tbody tr th {\n",
       "        vertical-align: top;\n",
       "    }\n",
       "\n",
       "    .dataframe thead th {\n",
       "        text-align: right;\n",
       "    }\n",
       "</style>\n",
       "<table border=\"1\" class=\"dataframe\">\n",
       "  <thead>\n",
       "    <tr style=\"text-align: right;\">\n",
       "      <th></th>\n",
       "      <th>SN</th>\n",
       "      <th>Commodity</th>\n",
       "      <th>Date</th>\n",
       "      <th>Unit</th>\n",
       "      <th>Minimum</th>\n",
       "      <th>Maximum</th>\n",
       "      <th>Average</th>\n",
       "    </tr>\n",
       "  </thead>\n",
       "  <tbody>\n",
       "    <tr>\n",
       "      <th>0</th>\n",
       "      <td>0</td>\n",
       "      <td>Tomato Big(Nepali)</td>\n",
       "      <td>2013-06-16</td>\n",
       "      <td>Kg</td>\n",
       "      <td>35.0</td>\n",
       "      <td>40.0</td>\n",
       "      <td>37.5</td>\n",
       "    </tr>\n",
       "    <tr>\n",
       "      <th>1</th>\n",
       "      <td>1</td>\n",
       "      <td>Tomato Small(Local)</td>\n",
       "      <td>2013-06-16</td>\n",
       "      <td>Kg</td>\n",
       "      <td>26.0</td>\n",
       "      <td>32.0</td>\n",
       "      <td>29.0</td>\n",
       "    </tr>\n",
       "    <tr>\n",
       "      <th>2</th>\n",
       "      <td>2</td>\n",
       "      <td>Potato Red</td>\n",
       "      <td>2013-06-16</td>\n",
       "      <td>Kg</td>\n",
       "      <td>20.0</td>\n",
       "      <td>21.0</td>\n",
       "      <td>20.5</td>\n",
       "    </tr>\n",
       "    <tr>\n",
       "      <th>3</th>\n",
       "      <td>3</td>\n",
       "      <td>Potato White</td>\n",
       "      <td>2013-06-16</td>\n",
       "      <td>Kg</td>\n",
       "      <td>15.0</td>\n",
       "      <td>16.0</td>\n",
       "      <td>15.5</td>\n",
       "    </tr>\n",
       "    <tr>\n",
       "      <th>4</th>\n",
       "      <td>4</td>\n",
       "      <td>Onion Dry (Indian)</td>\n",
       "      <td>2013-06-16</td>\n",
       "      <td>Kg</td>\n",
       "      <td>28.0</td>\n",
       "      <td>30.0</td>\n",
       "      <td>29.0</td>\n",
       "    </tr>\n",
       "  </tbody>\n",
       "</table>\n",
       "</div>"
      ],
      "text/plain": [
       "   SN            Commodity        Date Unit  Minimum  Maximum  Average\n",
       "0   0   Tomato Big(Nepali)  2013-06-16   Kg     35.0     40.0     37.5\n",
       "1   1  Tomato Small(Local)  2013-06-16   Kg     26.0     32.0     29.0\n",
       "2   2           Potato Red  2013-06-16   Kg     20.0     21.0     20.5\n",
       "3   3         Potato White  2013-06-16   Kg     15.0     16.0     15.5\n",
       "4   4   Onion Dry (Indian)  2013-06-16   Kg     28.0     30.0     29.0"
      ]
     },
     "execution_count": 5,
     "metadata": {},
     "output_type": "execute_result"
    }
   ],
   "source": [
    "df1.head()"
   ]
  },
  {
   "cell_type": "code",
   "execution_count": 6,
   "id": "f671693e-d6fb-4e73-92b3-0487b46e7891",
   "metadata": {},
   "outputs": [
    {
     "data": {
      "text/html": [
       "<div>\n",
       "<style scoped>\n",
       "    .dataframe tbody tr th:only-of-type {\n",
       "        vertical-align: middle;\n",
       "    }\n",
       "\n",
       "    .dataframe tbody tr th {\n",
       "        vertical-align: top;\n",
       "    }\n",
       "\n",
       "    .dataframe thead th {\n",
       "        text-align: right;\n",
       "    }\n",
       "</style>\n",
       "<table border=\"1\" class=\"dataframe\">\n",
       "  <thead>\n",
       "    <tr style=\"text-align: right;\">\n",
       "      <th></th>\n",
       "      <th>Tomato Big(Nepali)</th>\n",
       "      <th>1/5/2021</th>\n",
       "      <th>Kg</th>\n",
       "      <th>50</th>\n",
       "      <th>60</th>\n",
       "      <th>55</th>\n",
       "    </tr>\n",
       "  </thead>\n",
       "  <tbody>\n",
       "    <tr>\n",
       "      <th>0</th>\n",
       "      <td>Tomato Big(Indian)</td>\n",
       "      <td>1/5/2021</td>\n",
       "      <td>Kg</td>\n",
       "      <td>50</td>\n",
       "      <td>60</td>\n",
       "      <td>55</td>\n",
       "    </tr>\n",
       "    <tr>\n",
       "      <th>1</th>\n",
       "      <td>Tomato Small(Local)</td>\n",
       "      <td>1/5/2021</td>\n",
       "      <td>Kg</td>\n",
       "      <td>30</td>\n",
       "      <td>35</td>\n",
       "      <td>32.5</td>\n",
       "    </tr>\n",
       "    <tr>\n",
       "      <th>2</th>\n",
       "      <td>Tomato Small(Tunnel)</td>\n",
       "      <td>1/5/2021</td>\n",
       "      <td>Kg</td>\n",
       "      <td>30</td>\n",
       "      <td>35</td>\n",
       "      <td>32.5</td>\n",
       "    </tr>\n",
       "    <tr>\n",
       "      <th>3</th>\n",
       "      <td>Tomato Small(Indian)</td>\n",
       "      <td>1/5/2021</td>\n",
       "      <td>KG</td>\n",
       "      <td>40</td>\n",
       "      <td>45</td>\n",
       "      <td>42.5</td>\n",
       "    </tr>\n",
       "    <tr>\n",
       "      <th>4</th>\n",
       "      <td>Tomato Small(Terai)</td>\n",
       "      <td>1/5/2021</td>\n",
       "      <td>KG</td>\n",
       "      <td>40</td>\n",
       "      <td>45</td>\n",
       "      <td>42.5</td>\n",
       "    </tr>\n",
       "  </tbody>\n",
       "</table>\n",
       "</div>"
      ],
      "text/plain": [
       "     Tomato Big(Nepali)  1/5/2021  Kg  50  60    55\n",
       "0    Tomato Big(Indian)  1/5/2021  Kg  50  60    55\n",
       "1   Tomato Small(Local)  1/5/2021  Kg  30  35  32.5\n",
       "2  Tomato Small(Tunnel)  1/5/2021  Kg  30  35  32.5\n",
       "3  Tomato Small(Indian)  1/5/2021  KG  40  45  42.5\n",
       "4   Tomato Small(Terai)  1/5/2021  KG  40  45  42.5"
      ]
     },
     "execution_count": 6,
     "metadata": {},
     "output_type": "execute_result"
    }
   ],
   "source": [
    "df2.head()"
   ]
  },
  {
   "cell_type": "markdown",
   "id": "b3a9b88d-a765-4a41-98f6-874d49004419",
   "metadata": {},
   "source": [
    "## TASK 1: Combine two dataframes top and bottom"
   ]
  },
  {
   "cell_type": "code",
   "execution_count": null,
   "id": "0d42f859-c582-4b08-a441-2447cdf3f89e",
   "metadata": {},
   "outputs": [],
   "source": []
  },
  {
   "cell_type": "code",
   "execution_count": 7,
   "id": "f6073e10-11c3-40f9-b404-0dc34132024b",
   "metadata": {},
   "outputs": [
    {
     "name": "stdout",
     "output_type": "stream",
     "text": [
      "<class 'pandas.core.frame.DataFrame'>\n",
      "RangeIndex: 197161 entries, 0 to 197160\n",
      "Data columns (total 7 columns):\n",
      " #   Column     Non-Null Count   Dtype  \n",
      "---  ------     --------------   -----  \n",
      " 0   SN         197161 non-null  int64  \n",
      " 1   Commodity  197161 non-null  object \n",
      " 2   Date       197161 non-null  object \n",
      " 3   Unit       197161 non-null  object \n",
      " 4   Minimum    197161 non-null  float64\n",
      " 5   Maximum    197161 non-null  float64\n",
      " 6   Average    197161 non-null  float64\n",
      "dtypes: float64(3), int64(1), object(3)\n",
      "memory usage: 10.5+ MB\n"
     ]
    }
   ],
   "source": [
    "df1.info()"
   ]
  },
  {
   "cell_type": "code",
   "execution_count": 9,
   "id": "747463e9-a00f-4fd7-9f4d-f5c2ee6ae0cb",
   "metadata": {},
   "outputs": [
    {
     "name": "stdout",
     "output_type": "stream",
     "text": [
      "<class 'pandas.core.frame.DataFrame'>\n",
      "RangeIndex: 96479 entries, 0 to 96478\n",
      "Data columns (total 6 columns):\n",
      " #   Column              Non-Null Count  Dtype \n",
      "---  ------              --------------  ----- \n",
      " 0   Tomato Big(Nepali)  96479 non-null  object\n",
      " 1   1/5/2021            96479 non-null  object\n",
      " 2   Kg                  96479 non-null  object\n",
      " 3   50                  96479 non-null  object\n",
      " 4   60                  96479 non-null  object\n",
      " 5   55                  96479 non-null  object\n",
      "dtypes: object(6)\n",
      "memory usage: 4.4+ MB\n"
     ]
    }
   ],
   "source": [
    "df2.info()"
   ]
  },
  {
   "cell_type": "markdown",
   "id": "52f74450-3975-4a8a-a443-2dbcb0010b2b",
   "metadata": {},
   "source": [
    "## TASK 2: Convert the Date column to Date types"
   ]
  },
  {
   "cell_type": "code",
   "execution_count": 11,
   "id": "47effece-26a3-4db7-80c4-b2e01e760183",
   "metadata": {},
   "outputs": [
    {
     "data": {
      "text/plain": [
       "132"
      ]
     },
     "execution_count": 11,
     "metadata": {},
     "output_type": "execute_result"
    }
   ],
   "source": [
    "len(df1['Commodity'].unique())"
   ]
  },
  {
   "cell_type": "code",
   "execution_count": 13,
   "id": "514187a4-2e4f-4c63-86d0-3681a2dffcb5",
   "metadata": {},
   "outputs": [
    {
     "data": {
      "text/plain": [
       "133"
      ]
     },
     "execution_count": 13,
     "metadata": {},
     "output_type": "execute_result"
    }
   ],
   "source": [
    "len(df2['Tomato Big(Nepali)'].unique())"
   ]
  },
  {
   "cell_type": "code",
   "execution_count": 16,
   "id": "1fede62b-8626-44e3-a7d8-79cbec460009",
   "metadata": {},
   "outputs": [
    {
     "data": {
      "text/plain": [
       "Commodity\n",
       "Ginger                  2751\n",
       "Cauli Local             2750\n",
       "Cabbage(Local)          2749\n",
       "Chilli Dry              2748\n",
       "Raddish White(Local)    2747\n",
       "                        ... \n",
       "Maize                     24\n",
       "Mango(Calcutte)           23\n",
       "Sweet Lime                14\n",
       "Musk Melon                10\n",
       "Mango(Chousa)              2\n",
       "Name: count, Length: 132, dtype: int64"
      ]
     },
     "execution_count": 16,
     "metadata": {},
     "output_type": "execute_result"
    }
   ],
   "source": [
    "df1['Commodity'].value_counts()"
   ]
  },
  {
   "cell_type": "markdown",
   "id": "636ed3f7-91b4-4916-92be-3ba2183e7c8a",
   "metadata": {},
   "source": [
    "## TASK 3: I think there are repeated values in the Commdity fields. I might need to make a table for repeated things."
   ]
  },
  {
   "cell_type": "code",
   "execution_count": 19,
   "id": "972d724d-67b1-4a17-8bc9-7b8ee21a038e",
   "metadata": {},
   "outputs": [
    {
     "data": {
      "text/plain": [
       "Unit\n",
       "Kg      184408\n",
       "KG        6889\n",
       "1 Pc      3120\n",
       "Doz       2744\n",
       "Name: count, dtype: int64"
      ]
     },
     "execution_count": 19,
     "metadata": {},
     "output_type": "execute_result"
    }
   ],
   "source": [
    "df1['Unit'].value_counts()"
   ]
  },
  {
   "cell_type": "code",
   "execution_count": null,
   "id": "c54bd118-bdbb-4ad3-858b-fd9a55fc4514",
   "metadata": {},
   "outputs": [],
   "source": [
    "df1['Unit'].value_counts()"
   ]
  },
  {
   "cell_type": "markdown",
   "id": "6e4142d7-1aa6-4569-85c0-6b4e3ac10b58",
   "metadata": {},
   "source": [
    "## TASK 4: Hey Nabin, Give a proper namings to the df2's column, Okaaaaaay?"
   ]
  },
  {
   "cell_type": "code",
   "execution_count": null,
   "id": "15d8976d-2701-40d8-9b0d-acfaced31465",
   "metadata": {},
   "outputs": [],
   "source": []
  },
  {
   "cell_type": "code",
   "execution_count": null,
   "id": "dabec417-1971-4a18-9e1b-6a0d2585ea3e",
   "metadata": {},
   "outputs": [],
   "source": []
  },
  {
   "cell_type": "markdown",
   "id": "c79ffcaf-76f3-46fb-b77e-45172998795d",
   "metadata": {},
   "source": [
    "## TASK 5: Understand the meaning of the max, min, and average or if needed make something different."
   ]
  },
  {
   "cell_type": "markdown",
   "id": "28907790-b469-4232-990c-b286e83891ee",
   "metadata": {},
   "source": [
    "## TASK 6: Make sure to check the Data Value constraints"
   ]
  },
  {
   "cell_type": "code",
   "execution_count": null,
   "id": "babc3b9c-1067-456a-a653-e44382769b3d",
   "metadata": {},
   "outputs": [],
   "source": []
  }
 ],
 "metadata": {
  "kernelspec": {
   "display_name": "Python 3 (ipykernel)",
   "language": "python",
   "name": "python3"
  },
  "language_info": {
   "codemirror_mode": {
    "name": "ipython",
    "version": 3
   },
   "file_extension": ".py",
   "mimetype": "text/x-python",
   "name": "python",
   "nbconvert_exporter": "python",
   "pygments_lexer": "ipython3",
   "version": "3.12.5"
  }
 },
 "nbformat": 4,
 "nbformat_minor": 5
}
